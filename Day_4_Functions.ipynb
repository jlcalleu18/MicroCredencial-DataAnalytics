{
  "nbformat": 4,
  "nbformat_minor": 0,
  "metadata": {
    "colab": {
      "name": "Day 4 Functions.ipynb",
      "provenance": [],
      "authorship_tag": "ABX9TyNgkVUHO7lHK+jIDLYd354o",
      "include_colab_link": true
    },
    "kernelspec": {
      "name": "python3",
      "display_name": "Python 3"
    },
    "language_info": {
      "name": "python"
    }
  },
  "cells": [
    {
      "cell_type": "markdown",
      "metadata": {
        "id": "view-in-github",
        "colab_type": "text"
      },
      "source": [
        "<a href=\"https://colab.research.google.com/github/jlcalleu18/MicroCredential-DataAnalytics/blob/main/Day_4_Functions.ipynb\" target=\"_parent\"><img src=\"https://colab.research.google.com/assets/colab-badge.svg\" alt=\"Open In Colab\"/></a>"
      ]
    },
    {
      "cell_type": "markdown",
      "source": [
        "#Functions\n",
        "So what is a function?\n",
        "\n",
        "Formally, a function is a useful device that groups together a set of statements so they can be run more than once. They can also let us specify parameters that can serve as inputs to the functions.\n",
        "\n",
        "On a more fundamental level, functions allow us to not have to repeatedly write the same code again and again. If you remember back to the lessons on strings and lists, remember that we used a function len() to get the length of a string. Since checking the length of a sequence is a common task you would want to write a function that can do this repeatedly at command.\n",
        "\n",
        "Functions will be one of most basic levels of reusing code in Python, and it will also allow us to start thinking of program design (we will dive much deeper into the ideas of design when we learn about Object Oriented Programming)."
      ],
      "metadata": {
        "id": "wNx-OiA3xe4B"
      }
    },
    {
      "cell_type": "markdown",
      "source": [
        "#def Statements\n",
        "Let's see how to build out a function's syntax in Python. It has the following form:"
      ],
      "metadata": {
        "id": "WnyXLUY_zunA"
      }
    },
    {
      "cell_type": "code",
      "source": [
        "def name_of_function(arg1,arg2):\n",
        "    '''\n",
        "    This is where the function's Document String (doc-string) goes\n",
        "    '''\n",
        "    # Do stuff here\n",
        "    #return desired result"
      ],
      "metadata": {
        "id": "pYom0YHdzug4"
      },
      "execution_count": null,
      "outputs": []
    },
    {
      "cell_type": "code",
      "source": [
        "def greeting():\n",
        "  \"\"\"\n",
        "  Author: who did this funtion.\n",
        "  Input: what arguments the funtion takes\n",
        "  Output: This function displays a greeting\n",
        "  \"\"\"\n",
        "  print('Hi there')"
      ],
      "metadata": {
        "id": "MORFOmUVzuc1"
      },
      "execution_count": null,
      "outputs": []
    },
    {
      "cell_type": "code",
      "source": [
        "greeting()"
      ],
      "metadata": {
        "colab": {
          "base_uri": "https://localhost:8080/"
        },
        "id": "ZAxcBXtvzuZK",
        "outputId": "852233f2-30ed-42a8-8a1a-93656973f91e"
      },
      "execution_count": null,
      "outputs": [
        {
          "output_type": "stream",
          "name": "stdout",
          "text": [
            "Hi there\n"
          ]
        }
      ]
    },
    {
      "cell_type": "code",
      "source": [
        "help(greeting)"
      ],
      "metadata": {
        "colab": {
          "base_uri": "https://localhost:8080/"
        },
        "id": "bMX5ZLMtzuVn",
        "outputId": "d238d9f4-ec60-4a12-f398-5d181740c3f1"
      },
      "execution_count": null,
      "outputs": [
        {
          "output_type": "stream",
          "name": "stdout",
          "text": [
            "Help on function greeting in module __main__:\n",
            "\n",
            "greeting()\n",
            "    Author: who did this funtion.\n",
            "    Input: what arguments the funtion takes\n",
            "    Output: This function displays a greeting\n",
            "\n"
          ]
        }
      ]
    },
    {
      "cell_type": "code",
      "source": [
        "def insert_name(name):\n",
        "  \"\"\"\n",
        "  This funtion diplay a name\n",
        "  \"\"\"\n",
        "  print('Hello '+name)"
      ],
      "metadata": {
        "id": "a0m9NMQYzuLy"
      },
      "execution_count": null,
      "outputs": []
    },
    {
      "cell_type": "code",
      "source": [
        "insert_name('Jorge')"
      ],
      "metadata": {
        "colab": {
          "base_uri": "https://localhost:8080/"
        },
        "id": "3UK363ckzuF_",
        "outputId": "e01442e0-8321-4b2d-ecb2-70eae508cd27"
      },
      "execution_count": null,
      "outputs": [
        {
          "output_type": "stream",
          "name": "stdout",
          "text": [
            "Hello Jorge\n"
          ]
        }
      ]
    },
    {
      "cell_type": "code",
      "source": [
        "help(name)"
      ],
      "metadata": {
        "colab": {
          "base_uri": "https://localhost:8080/"
        },
        "id": "a1pe-V__zuDt",
        "outputId": "831e6b21-fec7-494a-9935-8b879ba83b53"
      },
      "execution_count": null,
      "outputs": [
        {
          "output_type": "stream",
          "name": "stdout",
          "text": [
            "Help on function name in module __main__:\n",
            "\n",
            "name()\n",
            "    This funtion diplay a name\n",
            "\n"
          ]
        }
      ]
    },
    {
      "cell_type": "code",
      "source": [
        "def add_num(x, y):\n",
        "  return x+y"
      ],
      "metadata": {
        "id": "lRRpZKvLzuBO"
      },
      "execution_count": null,
      "outputs": []
    },
    {
      "cell_type": "code",
      "source": [
        "add_num(3,4)"
      ],
      "metadata": {
        "colab": {
          "base_uri": "https://localhost:8080/"
        },
        "id": "-L2PiLYkzt7d",
        "outputId": "fa027a0d-8656-4c9c-f343-e518463717fb"
      },
      "execution_count": null,
      "outputs": [
        {
          "output_type": "execute_result",
          "data": {
            "text/plain": [
              "7"
            ]
          },
          "metadata": {},
          "execution_count": 28
        }
      ]
    },
    {
      "cell_type": "code",
      "source": [
        "add_num('d','g')"
      ],
      "metadata": {
        "colab": {
          "base_uri": "https://localhost:8080/",
          "height": 35
        },
        "id": "WufvcD6z85UF",
        "outputId": "bde3d089-e833-4974-8dbd-8698c85bad4b"
      },
      "execution_count": null,
      "outputs": [
        {
          "output_type": "execute_result",
          "data": {
            "application/vnd.google.colaboratory.intrinsic+json": {
              "type": "string"
            },
            "text/plain": [
              "'dg'"
            ]
          },
          "metadata": {},
          "execution_count": 29
        }
      ]
    },
    {
      "cell_type": "code",
      "source": [
        "def sub_num(num1,num2):\n",
        "  return num1-num2"
      ],
      "metadata": {
        "id": "3ThQvJoD9WG2"
      },
      "execution_count": null,
      "outputs": []
    },
    {
      "cell_type": "code",
      "source": [
        "sub_num(2390,342)"
      ],
      "metadata": {
        "id": "HrEJnh-E-HpT"
      },
      "execution_count": null,
      "outputs": []
    },
    {
      "cell_type": "code",
      "source": [
        "while True:\n",
        "  n = int(input(' 1. Add\\n 2. Subtract \\n 3. Multiply \\n 4. Divide \\n 0. exit \\n '))\n",
        "  if n !=0:\n",
        "    num1= int(input('Enter the first number: '))\n",
        "    num2= int(input('Enter the second number: '))\n",
        "    if n ==1:\n",
        "      print(f'{num1} + {num2} = {num1+num2}\\n')\n",
        "    elif n == 2:\n",
        "      print(f'{num1} + {num2} = {num1 - num2}\\n')\n",
        "    elif n == 3:\n",
        "      print(f'{num1} + {num2} = {num1*num2}\\n')\n",
        "    elif n == 4:\n",
        "      print(f'{num1} + {num2} = {num1/num2}\\n')\n",
        "    else:\n",
        "      print('The number you enter is incorrect')\n",
        "  else:\n",
        "    print('Thank you')\n",
        "    break\n"
      ],
      "metadata": {
        "id": "MvfiRDWm_M7q",
        "colab": {
          "base_uri": "https://localhost:8080/"
        },
        "outputId": "a0744e79-bd56-490c-bb0b-f6189b5dcf31"
      },
      "execution_count": null,
      "outputs": [
        {
          "output_type": "stream",
          "name": "stdout",
          "text": [
            " 1. Add\n",
            " 2. Subtract \n",
            " 3. Multiply \n",
            " 4. Divide \n",
            " 0. exit \n",
            " 1\n",
            "Enter the first number: 23\n",
            "Enter the second number: 23\n",
            "23 + 23 = 46\n",
            "\n",
            " 1. Add\n",
            " 2. Subtract \n",
            " 3. Multiply \n",
            " 4. Divide \n",
            " 0. exit \n",
            " 0\n",
            "Thank you\n"
          ]
        }
      ]
    },
    {
      "cell_type": "code",
      "source": [
        "def greeting(fname, lname, age):\n",
        "  \"\"\"\n",
        "  Author: who did this function.\n",
        "  Input: What argiumrents the function takes.\n",
        "  Output: This function displays a greeting\n",
        "  \"\"\"\n",
        "  print(f'Hi there {fname}, {lname}... You are are {age} years old')"
      ],
      "metadata": {
        "id": "F7JEqxFbGNFD"
      },
      "execution_count": null,
      "outputs": []
    },
    {
      "cell_type": "code",
      "source": [
        "greeting('General', 'Kenobi', 87)"
      ],
      "metadata": {
        "colab": {
          "base_uri": "https://localhost:8080/"
        },
        "id": "velI_ITuerpo",
        "outputId": "945a0b34-2536-450a-e5fb-8888f5e19ae6"
      },
      "execution_count": null,
      "outputs": [
        {
          "output_type": "stream",
          "name": "stdout",
          "text": [
            "Hi there General, Kenobi... You are are 87 years old\n"
          ]
        }
      ]
    },
    {
      "cell_type": "code",
      "source": [
        "def greeting3(name='Mark'):\n",
        "  \"\"\"\n",
        "  Author: who did this funtion.\n",
        "  Input: what arguments the funtion takes\n",
        "  Output: This function displays a greeting\n",
        "  \"\"\"\n",
        "  print('Hi there '+name)"
      ],
      "metadata": {
        "id": "ZdVFQeQteuyw"
      },
      "execution_count": null,
      "outputs": []
    },
    {
      "cell_type": "code",
      "source": [
        "greeting3('Peter')"
      ],
      "metadata": {
        "colab": {
          "base_uri": "https://localhost:8080/"
        },
        "id": "9dJ-sag3fWlW",
        "outputId": "cc27689e-44c5-4807-c6cc-769c2d7e077c"
      },
      "execution_count": null,
      "outputs": [
        {
          "output_type": "stream",
          "name": "stdout",
          "text": [
            "Hi there Peter\n"
          ]
        }
      ]
    },
    {
      "cell_type": "code",
      "source": [
        "greeting3()"
      ],
      "metadata": {
        "colab": {
          "base_uri": "https://localhost:8080/"
        },
        "id": "gnrpN6avfXmZ",
        "outputId": "191217ec-171f-41ca-dd58-b3d6f9889c69"
      },
      "execution_count": null,
      "outputs": [
        {
          "output_type": "stream",
          "name": "stdout",
          "text": [
            "Hi there Mark\n"
          ]
        }
      ]
    },
    {
      "cell_type": "markdown",
      "source": [
        "##Write a funtion that checks if a number is prime!"
      ],
      "metadata": {
        "id": "gVg3kobufqSy"
      }
    },
    {
      "cell_type": "code",
      "source": [
        "def primeChecker(num): \n",
        "  \"\"\"\n",
        "  Author: Group 3\n",
        "  Input: number from the user\n",
        "  output: check if the number is prime or not\n",
        "  \"\"\"\n",
        "  # creating a boolean variable \n",
        "  check = False\n",
        "  # num has to be > than 1 \n",
        "  if num > 1:\n",
        "    # loop from 2 to num\n",
        "    for i in range(2, num):  \n",
        "      if (num % i) == 0: \n",
        "        check = True   \n",
        "        break \n",
        "    # check if check is true or false\n",
        "    if check:\n",
        "      print(num, \"is not a prime number\")\n",
        "    else:\n",
        "      print(num, \"is a prime number\")\n",
        "  else:  \n",
        "      print(num, \"is not a prime number\")  "
      ],
      "metadata": {
        "id": "9589jyQigiM7"
      },
      "execution_count": null,
      "outputs": []
    },
    {
      "cell_type": "code",
      "source": [
        "primeChecker(2)"
      ],
      "metadata": {
        "colab": {
          "base_uri": "https://localhost:8080/"
        },
        "id": "v2iud3l7hSJP",
        "outputId": "09cde39e-0aca-41e4-b310-8c47e737835c"
      },
      "execution_count": null,
      "outputs": [
        {
          "output_type": "stream",
          "name": "stdout",
          "text": [
            "2 is a prime number\n"
          ]
        }
      ]
    },
    {
      "cell_type": "code",
      "source": [
        ""
      ],
      "metadata": {
        "id": "0dFO2sCPhZp0"
      },
      "execution_count": null,
      "outputs": []
    }
  ]
}