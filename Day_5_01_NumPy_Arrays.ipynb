{
  "cells": [
    {
      "cell_type": "markdown",
      "metadata": {
        "id": "view-in-github",
        "colab_type": "text"
      },
      "source": [
        "<a href=\"https://colab.research.google.com/github/jlcalleu18/MicroCredential-DataAnalytics/blob/main/Day_5_01_NumPy_Arrays.ipynb\" target=\"_parent\"><img src=\"https://colab.research.google.com/assets/colab-badge.svg\" alt=\"Open In Colab\"/></a>"
      ]
    },
    {
      "cell_type": "markdown",
      "metadata": {
        "id": "w3bxcj30JUqW"
      },
      "source": [
        ""
      ]
    },
    {
      "cell_type": "markdown",
      "metadata": {
        "id": "U-1MjSTIJUqY"
      },
      "source": [
        "# NumPy \n",
        "\n",
        "NumPy (or Numpy) is a Pyhton Library or Module design for Linear Algebra and Statistical Computation.\n",
        "It is one of the most important modules in python for Data Science since most all of the libraries necessary for  rely on NumPy as one of their main building blocks.\n",
        "\n",
        "Numpy is also incredibly fast, as it has bindings to other programming language libraries such as C++. "
      ]
    },
    {
      "cell_type": "markdown",
      "metadata": {
        "id": "ty2LgIbvJUqZ"
      },
      "source": [
        "_______________________________"
      ]
    },
    {
      "cell_type": "markdown",
      "metadata": {
        "id": "E4hcws_qJUqa"
      },
      "source": [
        "## Using NumPy\n",
        "\n",
        "Once you've installed NumPy you can import it as a library:"
      ]
    },
    {
      "cell_type": "code",
      "execution_count": null,
      "metadata": {
        "collapsed": true,
        "id": "hnOrdIOQJUqa"
      },
      "outputs": [],
      "source": [
        "import numpy as np"
      ]
    },
    {
      "cell_type": "markdown",
      "metadata": {
        "id": "8jnJe8m3JUqc"
      },
      "source": [
        "Numpy has many built-in functions and capabilities. We will not have the time to cover them all; we will, however, focus on some of the most important topics such as vectors, arrays, matrices, and number generation. Let's start by discussing arrays.\n",
        "\n",
        "## Numpy Arrays\n",
        "\n",
        "NumPy arrays are the main objects that we will use in this class. \n",
        "\n",
        "Numpy arrays essentially come in two flavors: vectors and matrices. Vectors are strictly 1-dimensional arrays and matrices are 2-dimensional (but you should note a matrix can still have only one row or one column).\n",
        "\n",
        "Let's begin our introduction by exploring how to create NumPy arrays.\n",
        "\n",
        "### Creating NumPy Arrays From a Python List\n",
        "\n",
        "We can create an array by directly converting a list or list of lists:"
      ]
    },
    {
      "cell_type": "code",
      "execution_count": null,
      "metadata": {
        "id": "3CjL3CQvJUqc",
        "outputId": "f5109bfa-f6d3-44c0-9ca2-cab5b35ab5a3"
      },
      "outputs": [
        {
          "data": {
            "text/plain": [
              "[1, 2, 3]"
            ]
          },
          "execution_count": 2,
          "metadata": {},
          "output_type": "execute_result"
        }
      ],
      "source": [
        "my_list = [1,2,3]\n",
        "my_list\n",
        "#creating a array of numbers"
      ]
    },
    {
      "cell_type": "code",
      "execution_count": null,
      "metadata": {
        "id": "dvQWa4ChJUqe",
        "outputId": "2c6ef802-8f22-4fbe-c865-e041f7750e42"
      },
      "outputs": [
        {
          "data": {
            "text/plain": [
              "array([1, 2, 3])"
            ]
          },
          "execution_count": 3,
          "metadata": {},
          "output_type": "execute_result"
        }
      ],
      "source": [
        "np.array(my_list)\n",
        "#adding my array into np.array and showing the values"
      ]
    },
    {
      "cell_type": "code",
      "execution_count": null,
      "metadata": {
        "id": "FvTB1WaHJUqe",
        "outputId": "86fd71eb-5f46-435a-fc36-1224a81a8922"
      },
      "outputs": [
        {
          "data": {
            "text/plain": [
              "[[1, 2, 3], [4, 5, 6], [7, 8, 9]]"
            ]
          },
          "execution_count": 4,
          "metadata": {},
          "output_type": "execute_result"
        }
      ],
      "source": [
        "my_matrix = [[1,2,3],[4,5,6],[7,8,9]]\n",
        "my_matrix\n",
        "#creating a 2-dimensional array"
      ]
    },
    {
      "cell_type": "code",
      "execution_count": null,
      "metadata": {
        "id": "bfkCdKs9JUqf",
        "outputId": "b944f5e0-0823-49a7-fb26-717768318603"
      },
      "outputs": [
        {
          "data": {
            "text/plain": [
              "array([[1, 2, 3],\n",
              "       [4, 5, 6],\n",
              "       [7, 8, 9]])"
            ]
          },
          "execution_count": 5,
          "metadata": {},
          "output_type": "execute_result"
        }
      ],
      "source": [
        "np.array(my_matrix)\n",
        "#adding my -dimensional array into np.array and showing the values"
      ]
    },
    {
      "cell_type": "markdown",
      "metadata": {
        "id": "YQzEOOeWJUqf"
      },
      "source": [
        "## Built-in Methods\n",
        "\n",
        "There are lots of built-in ways to generate Arrays"
      ]
    },
    {
      "cell_type": "markdown",
      "metadata": {
        "id": "JnU-7jjwJUqf"
      },
      "source": [
        "### arange\n",
        "\n",
        "Return evenly spaced values within a given interval."
      ]
    },
    {
      "cell_type": "code",
      "execution_count": null,
      "metadata": {
        "id": "FNjmR9_JJUqg",
        "outputId": "08f25d4f-94ff-47ab-d016-dad46f139537"
      },
      "outputs": [
        {
          "data": {
            "text/plain": [
              "array([ 0,  1,  2,  3,  4,  5,  6,  7,  8,  9, 10, 11, 12, 13, 14, 15, 16,\n",
              "       17, 18, 19])"
            ]
          },
          "execution_count": 6,
          "metadata": {},
          "output_type": "execute_result"
        }
      ],
      "source": [
        "np.arange(0,20)\n",
        "#giving an array from 0 to 20 items"
      ]
    },
    {
      "cell_type": "code",
      "execution_count": null,
      "metadata": {
        "id": "B-pNA3AfJUqg",
        "outputId": "90fb59a9-0727-4d44-8a42-8107b5349357"
      },
      "outputs": [
        {
          "data": {
            "text/plain": [
              "array([  0,   2,   4,   6,   8,  10,  12,  14,  16,  18,  20,  22,  24,\n",
              "        26,  28,  30,  32,  34,  36,  38,  40,  42,  44,  46,  48,  50,\n",
              "        52,  54,  56,  58,  60,  62,  64,  66,  68,  70,  72,  74,  76,\n",
              "        78,  80,  82,  84,  86,  88,  90,  92,  94,  96,  98, 100, 102,\n",
              "       104, 106, 108])"
            ]
          },
          "execution_count": 7,
          "metadata": {},
          "output_type": "execute_result"
        }
      ],
      "source": [
        "np.arange(0,110,2)\n",
        "#giving an array from 0 to 110 every two numbers"
      ]
    },
    {
      "cell_type": "markdown",
      "metadata": {
        "id": "O2XMEluUJUqg"
      },
      "source": [
        "### zeros and ones\n",
        "\n",
        "Generate arrays of zeros or ones"
      ]
    },
    {
      "cell_type": "code",
      "execution_count": null,
      "metadata": {
        "id": "pPuaTqVnJUqh",
        "outputId": "6e8e3cb8-b52b-46dc-cf6a-3c31686cd19b"
      },
      "outputs": [
        {
          "data": {
            "text/plain": [
              "array([0., 0., 0., 0., 0.])"
            ]
          },
          "execution_count": 8,
          "metadata": {},
          "output_type": "execute_result"
        }
      ],
      "source": [
        "np.zeros(5)\n",
        "#Generating a array of 5 zeros"
      ]
    },
    {
      "cell_type": "code",
      "execution_count": null,
      "metadata": {
        "id": "OzUXuwTtJUqh",
        "outputId": "28816dc3-49b7-4794-b684-002a5042a0b3"
      },
      "outputs": [
        {
          "data": {
            "text/plain": [
              "array([[0., 0., 0., 0., 0., 0., 0., 0., 0., 0., 0., 0., 0., 0., 0.],\n",
              "       [0., 0., 0., 0., 0., 0., 0., 0., 0., 0., 0., 0., 0., 0., 0.],\n",
              "       [0., 0., 0., 0., 0., 0., 0., 0., 0., 0., 0., 0., 0., 0., 0.],\n",
              "       [0., 0., 0., 0., 0., 0., 0., 0., 0., 0., 0., 0., 0., 0., 0.],\n",
              "       [0., 0., 0., 0., 0., 0., 0., 0., 0., 0., 0., 0., 0., 0., 0.],\n",
              "       [0., 0., 0., 0., 0., 0., 0., 0., 0., 0., 0., 0., 0., 0., 0.],\n",
              "       [0., 0., 0., 0., 0., 0., 0., 0., 0., 0., 0., 0., 0., 0., 0.],\n",
              "       [0., 0., 0., 0., 0., 0., 0., 0., 0., 0., 0., 0., 0., 0., 0.],\n",
              "       [0., 0., 0., 0., 0., 0., 0., 0., 0., 0., 0., 0., 0., 0., 0.],\n",
              "       [0., 0., 0., 0., 0., 0., 0., 0., 0., 0., 0., 0., 0., 0., 0.],\n",
              "       [0., 0., 0., 0., 0., 0., 0., 0., 0., 0., 0., 0., 0., 0., 0.],\n",
              "       [0., 0., 0., 0., 0., 0., 0., 0., 0., 0., 0., 0., 0., 0., 0.],\n",
              "       [0., 0., 0., 0., 0., 0., 0., 0., 0., 0., 0., 0., 0., 0., 0.],\n",
              "       [0., 0., 0., 0., 0., 0., 0., 0., 0., 0., 0., 0., 0., 0., 0.],\n",
              "       [0., 0., 0., 0., 0., 0., 0., 0., 0., 0., 0., 0., 0., 0., 0.]])"
            ]
          },
          "execution_count": 9,
          "metadata": {},
          "output_type": "execute_result"
        }
      ],
      "source": [
        "np.zeros((15,15))\n",
        "#Generating a array of 15 subarrays of 15 items of zeros"
      ]
    },
    {
      "cell_type": "code",
      "execution_count": null,
      "metadata": {
        "id": "tqeOezoMJUqh",
        "outputId": "ec7083b8-124d-4944-84ca-ab2fcdc11d4d"
      },
      "outputs": [
        {
          "data": {
            "text/plain": [
              "array([1., 1., 1., 1., 1., 1., 1., 1., 1., 1., 1., 1., 1., 1., 1., 1., 1.,\n",
              "       1., 1., 1., 1., 1., 1., 1., 1., 1., 1., 1., 1., 1.])"
            ]
          },
          "execution_count": 10,
          "metadata": {},
          "output_type": "execute_result"
        }
      ],
      "source": [
        "np.ones(30)\n",
        "#Generating a array of 30 ones"
      ]
    },
    {
      "cell_type": "code",
      "execution_count": null,
      "metadata": {
        "id": "_6ImXSD2JUqi",
        "outputId": "d8595a9f-6968-4d68-afb2-eb77b79127aa"
      },
      "outputs": [
        {
          "data": {
            "text/plain": [
              "array([[1., 1., 1., 1., 1., 1., 1., 1., 1., 1., 1., 1., 1., 1., 1., 1.,\n",
              "        1., 1., 1., 1., 1., 1., 1., 1., 1., 1., 1., 1., 1., 1.],\n",
              "       [1., 1., 1., 1., 1., 1., 1., 1., 1., 1., 1., 1., 1., 1., 1., 1.,\n",
              "        1., 1., 1., 1., 1., 1., 1., 1., 1., 1., 1., 1., 1., 1.],\n",
              "       [1., 1., 1., 1., 1., 1., 1., 1., 1., 1., 1., 1., 1., 1., 1., 1.,\n",
              "        1., 1., 1., 1., 1., 1., 1., 1., 1., 1., 1., 1., 1., 1.],\n",
              "       [1., 1., 1., 1., 1., 1., 1., 1., 1., 1., 1., 1., 1., 1., 1., 1.,\n",
              "        1., 1., 1., 1., 1., 1., 1., 1., 1., 1., 1., 1., 1., 1.],\n",
              "       [1., 1., 1., 1., 1., 1., 1., 1., 1., 1., 1., 1., 1., 1., 1., 1.,\n",
              "        1., 1., 1., 1., 1., 1., 1., 1., 1., 1., 1., 1., 1., 1.],\n",
              "       [1., 1., 1., 1., 1., 1., 1., 1., 1., 1., 1., 1., 1., 1., 1., 1.,\n",
              "        1., 1., 1., 1., 1., 1., 1., 1., 1., 1., 1., 1., 1., 1.],\n",
              "       [1., 1., 1., 1., 1., 1., 1., 1., 1., 1., 1., 1., 1., 1., 1., 1.,\n",
              "        1., 1., 1., 1., 1., 1., 1., 1., 1., 1., 1., 1., 1., 1.],\n",
              "       [1., 1., 1., 1., 1., 1., 1., 1., 1., 1., 1., 1., 1., 1., 1., 1.,\n",
              "        1., 1., 1., 1., 1., 1., 1., 1., 1., 1., 1., 1., 1., 1.],\n",
              "       [1., 1., 1., 1., 1., 1., 1., 1., 1., 1., 1., 1., 1., 1., 1., 1.,\n",
              "        1., 1., 1., 1., 1., 1., 1., 1., 1., 1., 1., 1., 1., 1.],\n",
              "       [1., 1., 1., 1., 1., 1., 1., 1., 1., 1., 1., 1., 1., 1., 1., 1.,\n",
              "        1., 1., 1., 1., 1., 1., 1., 1., 1., 1., 1., 1., 1., 1.],\n",
              "       [1., 1., 1., 1., 1., 1., 1., 1., 1., 1., 1., 1., 1., 1., 1., 1.,\n",
              "        1., 1., 1., 1., 1., 1., 1., 1., 1., 1., 1., 1., 1., 1.],\n",
              "       [1., 1., 1., 1., 1., 1., 1., 1., 1., 1., 1., 1., 1., 1., 1., 1.,\n",
              "        1., 1., 1., 1., 1., 1., 1., 1., 1., 1., 1., 1., 1., 1.],\n",
              "       [1., 1., 1., 1., 1., 1., 1., 1., 1., 1., 1., 1., 1., 1., 1., 1.,\n",
              "        1., 1., 1., 1., 1., 1., 1., 1., 1., 1., 1., 1., 1., 1.],\n",
              "       [1., 1., 1., 1., 1., 1., 1., 1., 1., 1., 1., 1., 1., 1., 1., 1.,\n",
              "        1., 1., 1., 1., 1., 1., 1., 1., 1., 1., 1., 1., 1., 1.],\n",
              "       [1., 1., 1., 1., 1., 1., 1., 1., 1., 1., 1., 1., 1., 1., 1., 1.,\n",
              "        1., 1., 1., 1., 1., 1., 1., 1., 1., 1., 1., 1., 1., 1.],\n",
              "       [1., 1., 1., 1., 1., 1., 1., 1., 1., 1., 1., 1., 1., 1., 1., 1.,\n",
              "        1., 1., 1., 1., 1., 1., 1., 1., 1., 1., 1., 1., 1., 1.],\n",
              "       [1., 1., 1., 1., 1., 1., 1., 1., 1., 1., 1., 1., 1., 1., 1., 1.,\n",
              "        1., 1., 1., 1., 1., 1., 1., 1., 1., 1., 1., 1., 1., 1.],\n",
              "       [1., 1., 1., 1., 1., 1., 1., 1., 1., 1., 1., 1., 1., 1., 1., 1.,\n",
              "        1., 1., 1., 1., 1., 1., 1., 1., 1., 1., 1., 1., 1., 1.],\n",
              "       [1., 1., 1., 1., 1., 1., 1., 1., 1., 1., 1., 1., 1., 1., 1., 1.,\n",
              "        1., 1., 1., 1., 1., 1., 1., 1., 1., 1., 1., 1., 1., 1.],\n",
              "       [1., 1., 1., 1., 1., 1., 1., 1., 1., 1., 1., 1., 1., 1., 1., 1.,\n",
              "        1., 1., 1., 1., 1., 1., 1., 1., 1., 1., 1., 1., 1., 1.],\n",
              "       [1., 1., 1., 1., 1., 1., 1., 1., 1., 1., 1., 1., 1., 1., 1., 1.,\n",
              "        1., 1., 1., 1., 1., 1., 1., 1., 1., 1., 1., 1., 1., 1.],\n",
              "       [1., 1., 1., 1., 1., 1., 1., 1., 1., 1., 1., 1., 1., 1., 1., 1.,\n",
              "        1., 1., 1., 1., 1., 1., 1., 1., 1., 1., 1., 1., 1., 1.],\n",
              "       [1., 1., 1., 1., 1., 1., 1., 1., 1., 1., 1., 1., 1., 1., 1., 1.,\n",
              "        1., 1., 1., 1., 1., 1., 1., 1., 1., 1., 1., 1., 1., 1.],\n",
              "       [1., 1., 1., 1., 1., 1., 1., 1., 1., 1., 1., 1., 1., 1., 1., 1.,\n",
              "        1., 1., 1., 1., 1., 1., 1., 1., 1., 1., 1., 1., 1., 1.],\n",
              "       [1., 1., 1., 1., 1., 1., 1., 1., 1., 1., 1., 1., 1., 1., 1., 1.,\n",
              "        1., 1., 1., 1., 1., 1., 1., 1., 1., 1., 1., 1., 1., 1.],\n",
              "       [1., 1., 1., 1., 1., 1., 1., 1., 1., 1., 1., 1., 1., 1., 1., 1.,\n",
              "        1., 1., 1., 1., 1., 1., 1., 1., 1., 1., 1., 1., 1., 1.],\n",
              "       [1., 1., 1., 1., 1., 1., 1., 1., 1., 1., 1., 1., 1., 1., 1., 1.,\n",
              "        1., 1., 1., 1., 1., 1., 1., 1., 1., 1., 1., 1., 1., 1.],\n",
              "       [1., 1., 1., 1., 1., 1., 1., 1., 1., 1., 1., 1., 1., 1., 1., 1.,\n",
              "        1., 1., 1., 1., 1., 1., 1., 1., 1., 1., 1., 1., 1., 1.],\n",
              "       [1., 1., 1., 1., 1., 1., 1., 1., 1., 1., 1., 1., 1., 1., 1., 1.,\n",
              "        1., 1., 1., 1., 1., 1., 1., 1., 1., 1., 1., 1., 1., 1.],\n",
              "       [1., 1., 1., 1., 1., 1., 1., 1., 1., 1., 1., 1., 1., 1., 1., 1.,\n",
              "        1., 1., 1., 1., 1., 1., 1., 1., 1., 1., 1., 1., 1., 1.]])"
            ]
          },
          "execution_count": 11,
          "metadata": {},
          "output_type": "execute_result"
        }
      ],
      "source": [
        "np.ones((30,30))\n",
        "#Generating a array of 30 rows and 30 colums "
      ]
    },
    {
      "cell_type": "markdown",
      "metadata": {
        "id": "4v0gdXp4JUqi"
      },
      "source": [
        "### linspace\n",
        "Return evenly spaced numbers over a specified interval."
      ]
    },
    {
      "cell_type": "code",
      "execution_count": null,
      "metadata": {
        "id": "7Nu3NcmkJUqi",
        "outputId": "67a68511-7a5b-438a-f23f-b2b1afb79d57"
      },
      "outputs": [
        {
          "data": {
            "text/plain": [
              "array([  0.,  25.,  50.,  75., 100.])"
            ]
          },
          "execution_count": 12,
          "metadata": {},
          "output_type": "execute_result"
        }
      ],
      "source": [
        "np.linspace(0,100,5)\n",
        "#Generating an np.array from 0 to 100 but only 5 of them"
      ]
    },
    {
      "cell_type": "code",
      "execution_count": null,
      "metadata": {
        "id": "HVW096vKJUqi",
        "outputId": "ba123484-e88c-4a16-8e12-67a020ccebac"
      },
      "outputs": [
        {
          "data": {
            "text/plain": [
              "array([ 0.        ,  0.20408163,  0.40816327,  0.6122449 ,  0.81632653,\n",
              "        1.02040816,  1.2244898 ,  1.42857143,  1.63265306,  1.83673469,\n",
              "        2.04081633,  2.24489796,  2.44897959,  2.65306122,  2.85714286,\n",
              "        3.06122449,  3.26530612,  3.46938776,  3.67346939,  3.87755102,\n",
              "        4.08163265,  4.28571429,  4.48979592,  4.69387755,  4.89795918,\n",
              "        5.10204082,  5.30612245,  5.51020408,  5.71428571,  5.91836735,\n",
              "        6.12244898,  6.32653061,  6.53061224,  6.73469388,  6.93877551,\n",
              "        7.14285714,  7.34693878,  7.55102041,  7.75510204,  7.95918367,\n",
              "        8.16326531,  8.36734694,  8.57142857,  8.7755102 ,  8.97959184,\n",
              "        9.18367347,  9.3877551 ,  9.59183673,  9.79591837, 10.        ])"
            ]
          },
          "execution_count": 13,
          "metadata": {},
          "output_type": "execute_result"
        }
      ],
      "source": [
        "np.linspace(0,10,50)\n",
        "#Generating an array from 0 to 10 but only 50 of them"
      ]
    },
    {
      "cell_type": "markdown",
      "metadata": {
        "id": "D4GL16hbJUqj"
      },
      "source": [
        "## eye\n",
        "\n",
        "Creates an identity matrix"
      ]
    },
    {
      "cell_type": "code",
      "execution_count": null,
      "metadata": {
        "id": "VrlggeSZJUqj",
        "outputId": "e51e19fe-ed0d-437c-8343-1c91f2ff7ec1",
        "colab": {
          "base_uri": "https://localhost:8080/"
        }
      },
      "outputs": [
        {
          "output_type": "execute_result",
          "data": {
            "text/plain": [
              "array([[1., 0., 0., 0., 0., 0.],\n",
              "       [0., 1., 0., 0., 0., 0.],\n",
              "       [0., 0., 1., 0., 0., 0.],\n",
              "       [0., 0., 0., 1., 0., 0.],\n",
              "       [0., 0., 0., 0., 1., 0.],\n",
              "       [0., 0., 0., 0., 0., 1.]])"
            ]
          },
          "metadata": {},
          "execution_count": 5
        }
      ],
      "source": [
        "np.eye(6)\n",
        "#Generating a matrix of 6x6 "
      ]
    },
    {
      "cell_type": "markdown",
      "metadata": {
        "id": "bdr7pbtGJUqj"
      },
      "source": [
        "## Random \n",
        "\n",
        "Numpy also has lots of ways to create random number arrays:\n",
        "\n",
        "### rand\n",
        "Create an array of the given shape and populate it with\n",
        "random samples from a uniform distribution\n",
        "over ``[0, 1)``."
      ]
    },
    {
      "cell_type": "code",
      "execution_count": null,
      "metadata": {
        "id": "cvtrioCRJUqj",
        "outputId": "edd894f0-0c3c-43bc-a362-37187299410b"
      },
      "outputs": [
        {
          "data": {
            "text/plain": [
              "array([0.39532853, 0.28767256, 0.63723705, 0.81958848, 0.10552333])"
            ]
          },
          "execution_count": 16,
          "metadata": {},
          "output_type": "execute_result"
        }
      ],
      "source": [
        "np.random.rand(5)\n",
        "#Generating an array of 5 random numbers between 0 and 1"
      ]
    },
    {
      "cell_type": "code",
      "execution_count": null,
      "metadata": {
        "id": "50wtKZ1VJUqk",
        "outputId": "37b84614-1b34-43c1-df66-202868d6a4ca"
      },
      "outputs": [
        {
          "data": {
            "text/plain": [
              "array([[0.75592607, 0.32027948, 0.03774677, 0.51778968, 0.457934  ,\n",
              "        0.93147896, 0.5319068 , 0.62402026, 0.40365503, 0.67132405],\n",
              "       [0.88450923, 0.42593345, 0.61866847, 0.48740643, 0.91857095,\n",
              "        0.30244395, 0.92264687, 0.14247435, 0.01606613, 0.93381843],\n",
              "       [0.28341242, 0.33066782, 0.313009  , 0.95639412, 0.86752674,\n",
              "        0.98012814, 0.02840947, 0.28114315, 0.36567471, 0.04502322],\n",
              "       [0.76821622, 0.70482945, 0.22303135, 0.84708819, 0.53813128,\n",
              "        0.72475293, 0.50899286, 0.4178185 , 0.14178324, 0.83432446],\n",
              "       [0.6930306 , 0.2794972 , 0.79093666, 0.68712927, 0.41286361,\n",
              "        0.09545309, 0.85092   , 0.45825814, 0.09141022, 0.69963027],\n",
              "       [0.69576628, 0.88624393, 0.12454747, 0.80183198, 0.68566186,\n",
              "        0.52715625, 0.46118396, 0.47221171, 0.42487931, 0.84994482],\n",
              "       [0.39593907, 0.69663989, 0.12258968, 0.27626576, 0.77464041,\n",
              "        0.46521979, 0.41481244, 0.12045694, 0.2333648 , 0.46401901],\n",
              "       [0.36973058, 0.18989573, 0.85170564, 0.09873524, 0.41089306,\n",
              "        0.08486238, 0.55655816, 0.8068951 , 0.06172967, 0.04519234],\n",
              "       [0.02584725, 0.28560997, 0.44454078, 0.7800004 , 0.58403115,\n",
              "        0.29933226, 0.52362502, 0.51609107, 0.60309614, 0.83858365],\n",
              "       [0.04281262, 0.85072941, 0.32740522, 0.2546206 , 0.71872113,\n",
              "        0.73884467, 0.83926018, 0.68733242, 0.25592684, 0.25040905]])"
            ]
          },
          "execution_count": 17,
          "metadata": {},
          "output_type": "execute_result"
        }
      ],
      "source": [
        "np.random.rand(10,10)\n",
        "#Generating an array of 10x10 random numbers between 0 and 1"
      ]
    },
    {
      "cell_type": "markdown",
      "metadata": {
        "id": "2p5zLSXYJUqk"
      },
      "source": [
        "### randn\n",
        "\n",
        "Return a sample (or samples) from the \"standard normal\" distribution. Unlike rand which is uniform:"
      ]
    },
    {
      "cell_type": "code",
      "execution_count": null,
      "metadata": {
        "id": "cK4ieZCqJUqk",
        "outputId": "0fb721c0-4473-4272-987f-c52be5e4101f",
        "colab": {
          "base_uri": "https://localhost:8080/"
        }
      },
      "outputs": [
        {
          "output_type": "execute_result",
          "data": {
            "text/plain": [
              "array([-0.6730582 , -0.12694682, -1.27676483, -1.43083425,  0.73264424,\n",
              "       -0.90587134, -2.21687763, -0.26837882,  0.70492867, -0.00238758,\n",
              "       -0.02969006, -1.78778405,  1.02229964,  0.35808917, -1.10709807,\n",
              "        1.23661391,  0.12990594, -1.0573299 , -0.48386542,  0.3962362 ])"
            ]
          },
          "metadata": {},
          "execution_count": 3
        }
      ],
      "source": [
        "np.random.randn(20)\n",
        "#Generating an array of 20 random"
      ]
    },
    {
      "cell_type": "code",
      "execution_count": null,
      "metadata": {
        "id": "JKovaaiKJUqk",
        "outputId": "25f2bdaa-8e9f-4873-c833-a5114111f99c"
      },
      "outputs": [
        {
          "data": {
            "text/plain": [
              "array([[-0.44184508,  1.01064116,  1.99833887,  0.21577714, -0.02530655],\n",
              "       [ 0.27859028,  0.71287888,  0.91119295,  0.82792409,  1.25512526],\n",
              "       [ 0.78096458, -1.16099471,  0.58783187,  0.61747119, -0.60430031],\n",
              "       [ 0.29022728, -2.27124336, -0.10400327, -1.31632786,  0.24033699],\n",
              "       [-1.90967447,  0.67088679, -0.38483304, -3.10878247, -0.24176113]])"
            ]
          },
          "execution_count": 19,
          "metadata": {},
          "output_type": "execute_result"
        }
      ],
      "source": [
        "np.random.randn(5,5)\n",
        "#Generating an array of 5x5 random numbers"
      ]
    },
    {
      "cell_type": "markdown",
      "metadata": {
        "id": "GQjJ4xnmJUql"
      },
      "source": [
        "### randint\n",
        "Return random integers from `low` (inclusive) to `high` (exclusive)."
      ]
    },
    {
      "cell_type": "code",
      "execution_count": null,
      "metadata": {
        "id": "c0z46pnZJUql",
        "outputId": "baa7d806-9d5e-41c7-9be5-8098ad19e180"
      },
      "outputs": [
        {
          "data": {
            "text/plain": [
              "48"
            ]
          },
          "execution_count": 20,
          "metadata": {},
          "output_type": "execute_result"
        }
      ],
      "source": [
        "np.random.randint(1,500)\n",
        "#Generating a random number between 1 and 500"
      ]
    },
    {
      "cell_type": "code",
      "execution_count": null,
      "metadata": {
        "id": "dL4VOOmBJUql",
        "outputId": "43d83cdb-9aad-4b67-e803-cc783c184593"
      },
      "outputs": [
        {
          "data": {
            "text/plain": [
              "array([ 88,  82, 399, 246, 522, 777, 104, 749, 647, 424, 615, 157, 516,\n",
              "       810, 797, 218, 323, 746, 715, 920, 840, 976, 423, 308,  89, 524,\n",
              "       341, 629, 113, 123, 299, 835, 693, 352, 111, 137, 734, 133, 989,\n",
              "       998,  71,  46, 598, 357, 681, 501, 124, 576, 536,  78, 287,  72,\n",
              "       411, 146, 483, 748, 735, 909, 825, 339, 248,  21, 421, 822,  87,\n",
              "       370, 210, 569, 620, 704, 774, 995, 364,  16, 685, 501, 993, 777,\n",
              "        84, 747, 128, 275, 787, 909, 844, 500, 530, 988, 679,  32, 503,\n",
              "       463, 703,   1,  47, 103,  19, 474, 933, 723])"
            ]
          },
          "execution_count": 21,
          "metadata": {},
          "output_type": "execute_result"
        }
      ],
      "source": [
        "np.random.randint(1,1000,100)\n",
        "#Generating 100 random number between 1 and 500"
      ]
    },
    {
      "cell_type": "markdown",
      "metadata": {
        "id": "MimzfPX5JUql"
      },
      "source": [
        "## Array Attributes and Methods\n",
        "\n",
        "Let's discuss some useful attributes and methods or an array:"
      ]
    },
    {
      "cell_type": "code",
      "execution_count": null,
      "metadata": {
        "collapsed": true,
        "id": "qOeygKb5JUql"
      },
      "outputs": [],
      "source": [
        "arr = np.arange(50)\n",
        "ranarr = np.random.randint(0,500,10)"
      ]
    },
    {
      "cell_type": "code",
      "execution_count": null,
      "metadata": {
        "id": "iLeq6K2CJUqm",
        "outputId": "8f937432-f249-4a7c-8ced-789e228af93e"
      },
      "outputs": [
        {
          "data": {
            "text/plain": [
              "array([ 0,  1,  2,  3,  4,  5,  6,  7,  8,  9, 10, 11, 12, 13, 14, 15, 16,\n",
              "       17, 18, 19, 20, 21, 22, 23, 24, 25, 26, 27, 28, 29, 30, 31, 32, 33,\n",
              "       34, 35, 36, 37, 38, 39, 40, 41, 42, 43, 44, 45, 46, 47, 48, 49])"
            ]
          },
          "execution_count": 24,
          "metadata": {},
          "output_type": "execute_result"
        }
      ],
      "source": [
        "arr\n",
        "#Generating numbers from 0 and 50"
      ]
    },
    {
      "cell_type": "code",
      "execution_count": null,
      "metadata": {
        "id": "6NAV8QTjJUqm",
        "outputId": "90a3111b-f1d4-45ba-d597-04359b887edf"
      },
      "outputs": [
        {
          "data": {
            "text/plain": [
              "array([184, 197, 373, 268,  94, 496, 321, 240,   7, 123])"
            ]
          },
          "execution_count": 25,
          "metadata": {},
          "output_type": "execute_result"
        }
      ],
      "source": [
        "ranarr\n",
        "#Generating 10 random number between 0 and 500"
      ]
    },
    {
      "cell_type": "markdown",
      "metadata": {
        "id": "kvTb79yiJUqn"
      },
      "source": [
        "## Reshape\n",
        "Returns an array containing the same data with a new shape."
      ]
    },
    {
      "cell_type": "code",
      "execution_count": null,
      "metadata": {
        "id": "MzDl2OcIJUqn",
        "outputId": "9585d937-387a-4d04-923c-e94cab2a245f"
      },
      "outputs": [
        {
          "data": {
            "text/plain": [
              "array([[ 0,  1,  2,  3,  4],\n",
              "       [ 5,  6,  7,  8,  9],\n",
              "       [10, 11, 12, 13, 14],\n",
              "       [15, 16, 17, 18, 19],\n",
              "       [20, 21, 22, 23, 24],\n",
              "       [25, 26, 27, 28, 29],\n",
              "       [30, 31, 32, 33, 34],\n",
              "       [35, 36, 37, 38, 39],\n",
              "       [40, 41, 42, 43, 44],\n",
              "       [45, 46, 47, 48, 49]])"
            ]
          },
          "execution_count": 29,
          "metadata": {},
          "output_type": "execute_result"
        }
      ],
      "source": [
        "arr.reshape(10,5)\n",
        "#Generating a array of 10x5 with numbers in ascending order"
      ]
    },
    {
      "cell_type": "markdown",
      "metadata": {
        "id": "1Vc2G-aBJUqn"
      },
      "source": [
        "### max,min,argmax,argmin\n",
        "\n",
        "These are useful methods for finding max or min values. Or to find their index locations using argmin or argmax"
      ]
    },
    {
      "cell_type": "code",
      "execution_count": null,
      "metadata": {
        "id": "7V8mfLmyJUqn",
        "outputId": "25582c55-85b9-4e28-a0ad-ca1dfaf862d1"
      },
      "outputs": [
        {
          "data": {
            "text/plain": [
              "array([184, 197, 373, 268,  94, 496, 321, 240,   7, 123])"
            ]
          },
          "execution_count": 30,
          "metadata": {},
          "output_type": "execute_result"
        }
      ],
      "source": [
        "ranarr"
      ]
    },
    {
      "cell_type": "code",
      "execution_count": null,
      "metadata": {
        "id": "UYJcIFeKJUqn",
        "outputId": "2e1a0b6c-4d40-4ce6-b101-589e868d6ec0"
      },
      "outputs": [
        {
          "data": {
            "text/plain": [
              "496"
            ]
          },
          "execution_count": 31,
          "metadata": {},
          "output_type": "execute_result"
        }
      ],
      "source": [
        "ranarr.max()\n",
        "#check the maximum number in the array"
      ]
    },
    {
      "cell_type": "code",
      "execution_count": null,
      "metadata": {
        "id": "cI9_-5NNJUqo",
        "outputId": "0990a926-f97b-4eba-ba66-cf971d47ffa8"
      },
      "outputs": [
        {
          "data": {
            "text/plain": [
              "5"
            ]
          },
          "execution_count": 32,
          "metadata": {},
          "output_type": "execute_result"
        }
      ],
      "source": [
        "ranarr.argmax()\n",
        "#check the position of the maximum number in the array"
      ]
    },
    {
      "cell_type": "code",
      "execution_count": null,
      "metadata": {
        "id": "uUh4Sa42JUqo",
        "outputId": "d30e6d30-e373-4aa7-dd58-50d13e4dd5b3"
      },
      "outputs": [
        {
          "data": {
            "text/plain": [
              "7"
            ]
          },
          "execution_count": 33,
          "metadata": {},
          "output_type": "execute_result"
        }
      ],
      "source": [
        "ranarr.min()\n",
        "#check the minimum  number in the array"
      ]
    },
    {
      "cell_type": "code",
      "execution_count": null,
      "metadata": {
        "id": "D7pVlwpdJUqo",
        "outputId": "ef69c949-5c43-4c28-d5ef-54da4398c0b3"
      },
      "outputs": [
        {
          "data": {
            "text/plain": [
              "8"
            ]
          },
          "execution_count": 34,
          "metadata": {},
          "output_type": "execute_result"
        }
      ],
      "source": [
        "ranarr.argmin()\n",
        "#check the position of the minimum  number in the array"
      ]
    },
    {
      "cell_type": "markdown",
      "metadata": {
        "id": "7iKLDpDDJUqo"
      },
      "source": [
        "## Shape\n",
        "\n",
        "Shape is an attribute that arrays have (not a method):"
      ]
    },
    {
      "cell_type": "code",
      "execution_count": null,
      "metadata": {
        "id": "bNAgyTK4JUqo",
        "outputId": "3e77971b-2474-4f93-89c3-ea8f8388013e"
      },
      "outputs": [
        {
          "data": {
            "text/plain": [
              "(50,)"
            ]
          },
          "execution_count": 35,
          "metadata": {},
          "output_type": "execute_result"
        }
      ],
      "source": [
        "# Vector\n",
        "arr.shape"
      ]
    },
    {
      "cell_type": "code",
      "execution_count": null,
      "metadata": {
        "id": "s_leOB9zJUqp",
        "outputId": "687de8a8-f024-42d0-ab97-be91bc93da17"
      },
      "outputs": [
        {
          "data": {
            "text/plain": [
              "array([[ 0,  1,  2,  3,  4,  5,  6,  7,  8,  9, 10, 11, 12, 13, 14, 15,\n",
              "        16, 17, 18, 19, 20, 21, 22, 23, 24],\n",
              "       [25, 26, 27, 28, 29, 30, 31, 32, 33, 34, 35, 36, 37, 38, 39, 40,\n",
              "        41, 42, 43, 44, 45, 46, 47, 48, 49]])"
            ]
          },
          "execution_count": 37,
          "metadata": {},
          "output_type": "execute_result"
        }
      ],
      "source": [
        "# Notice the two sets of brackets\n",
        "arr.reshape(2,25)\n",
        "#generate a array of 2x25 with numbers in ascending order"
      ]
    },
    {
      "cell_type": "code",
      "execution_count": null,
      "metadata": {
        "id": "kWqJJ7TQJUqp",
        "outputId": "994770d4-049c-470f-cda6-dcbea0a2f7d6"
      },
      "outputs": [
        {
          "data": {
            "text/plain": [
              "(2, 25)"
            ]
          },
          "execution_count": 38,
          "metadata": {},
          "output_type": "execute_result"
        }
      ],
      "source": [
        "arr.reshape(2,25).shape\n",
        "#check the shape"
      ]
    },
    {
      "cell_type": "code",
      "execution_count": null,
      "metadata": {
        "id": "ALYtswf2JUqp",
        "outputId": "7d037460-02b2-4358-9d12-2ee621f96281",
        "colab": {
          "base_uri": "https://localhost:8080/"
        }
      },
      "outputs": [
        {
          "output_type": "execute_result",
          "data": {
            "text/plain": [
              "array([[ 0,  1],\n",
              "       [ 2,  3],\n",
              "       [ 4,  5],\n",
              "       [ 6,  7],\n",
              "       [ 8,  9],\n",
              "       [10, 11],\n",
              "       [12, 13],\n",
              "       [14, 15],\n",
              "       [16, 17],\n",
              "       [18, 19],\n",
              "       [20, 21],\n",
              "       [22, 23],\n",
              "       [24, 25],\n",
              "       [26, 27],\n",
              "       [28, 29],\n",
              "       [30, 31],\n",
              "       [32, 33],\n",
              "       [34, 35],\n",
              "       [36, 37],\n",
              "       [38, 39],\n",
              "       [40, 41],\n",
              "       [42, 43],\n",
              "       [44, 45],\n",
              "       [46, 47],\n",
              "       [48, 49]])"
            ]
          },
          "metadata": {},
          "execution_count": 16
        }
      ],
      "source": [
        "arr.reshape(25,2)\n",
        "#generate a array of 25x2 with numbers in ascending order"
      ]
    },
    {
      "cell_type": "code",
      "execution_count": null,
      "metadata": {
        "id": "EqRVXjMPJUqp",
        "outputId": "3c583484-1700-421c-e41f-d799c58d7c64"
      },
      "outputs": [
        {
          "data": {
            "text/plain": [
              "(25, 2)"
            ]
          },
          "execution_count": 40,
          "metadata": {},
          "output_type": "execute_result"
        }
      ],
      "source": [
        "arr.reshape(25,2).shape\n",
        "#check the shape"
      ]
    },
    {
      "cell_type": "markdown",
      "metadata": {
        "id": "zRlZRjFMJUqq"
      },
      "source": [
        "### dtype\n",
        "\n",
        "You can also grab the data type of the object in the array:"
      ]
    },
    {
      "cell_type": "code",
      "execution_count": null,
      "metadata": {
        "id": "A7-fQ5MMJUqq",
        "outputId": "171c6c87-c388-4bcc-e194-b5eb7c0aea97"
      },
      "outputs": [
        {
          "data": {
            "text/plain": [
              "dtype('int32')"
            ]
          },
          "execution_count": 41,
          "metadata": {},
          "output_type": "execute_result"
        }
      ],
      "source": [
        "arr.dtype\n",
        "#check the type of the array"
      ]
    },
    {
      "cell_type": "markdown",
      "metadata": {
        "id": "i3p9YaZqJUqq"
      },
      "source": [
        "# Good Times!"
      ]
    },
    {
      "cell_type": "code",
      "execution_count": null,
      "metadata": {
        "id": "hfkJSBwEJUqr"
      },
      "outputs": [],
      "source": [
        ""
      ]
    }
  ],
  "metadata": {
    "kernelspec": {
      "display_name": "Python 3",
      "language": "python",
      "name": "python3"
    },
    "language_info": {
      "codemirror_mode": {
        "name": "ipython",
        "version": 3
      },
      "file_extension": ".py",
      "mimetype": "text/x-python",
      "name": "python",
      "nbconvert_exporter": "python",
      "pygments_lexer": "ipython3",
      "version": "3.6.8"
    },
    "colab": {
      "name": "Day 5 01_NumPy Arrays.ipynb",
      "provenance": [],
      "collapsed_sections": [],
      "include_colab_link": true
    }
  },
  "nbformat": 4,
  "nbformat_minor": 0
}