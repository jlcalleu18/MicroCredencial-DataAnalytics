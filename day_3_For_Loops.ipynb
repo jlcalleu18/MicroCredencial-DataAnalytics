{
  "nbformat": 4,
  "nbformat_minor": 0,
  "metadata": {
    "colab": {
      "name": "day-3 For Loops.ipynb",
      "provenance": [],
      "collapsed_sections": [],
      "authorship_tag": "ABX9TyN0znmP69H5S9cuUBwaUC3V",
      "include_colab_link": true
    },
    "kernelspec": {
      "name": "python3",
      "display_name": "Python 3"
    },
    "language_info": {
      "name": "python"
    }
  },
  "cells": [
    {
      "cell_type": "markdown",
      "metadata": {
        "id": "view-in-github",
        "colab_type": "text"
      },
      "source": [
        "<a href=\"https://colab.research.google.com/github/jlcalleu18/MicroCredential-DataAnalytics/blob/main/day_3_For_Loops.ipynb\" target=\"_parent\"><img src=\"https://colab.research.google.com/assets/colab-badge.svg\" alt=\"Open In Colab\"/></a>"
      ]
    },
    {
      "cell_type": "markdown",
      "source": [
        "# For Loops"
      ],
      "metadata": {
        "id": "z9BR33bH7uku"
      }
    },
    {
      "cell_type": "code",
      "source": [
        "for x in 'CUNY':\n",
        "  print(x)"
      ],
      "metadata": {
        "colab": {
          "base_uri": "https://localhost:8080/"
        },
        "id": "jrBm7SvU71yh",
        "outputId": "260126c3-5b6f-40cf-9333-352fc0af42c7"
      },
      "execution_count": null,
      "outputs": [
        {
          "output_type": "stream",
          "name": "stdout",
          "text": [
            "C\n",
            "U\n",
            "N\n",
            "Y\n"
          ]
        }
      ]
    },
    {
      "cell_type": "code",
      "source": [
        "TV_Shows = ['games of thrones', 'star trek', 'Stranger Things',]"
      ],
      "metadata": {
        "id": "SfzPY7Au71uC"
      },
      "execution_count": 7,
      "outputs": []
    },
    {
      "cell_type": "code",
      "source": [
        "for show in TV_Shows:\n",
        "  print(show.title()+ \", is my favorite TV show\")\n",
        "  print(show.upper())"
      ],
      "metadata": {
        "colab": {
          "base_uri": "https://localhost:8080/"
        },
        "id": "I5K5VlnL71rq",
        "outputId": "34e1194e-4669-4206-8b29-d66b76eaaf68"
      },
      "execution_count": 10,
      "outputs": [
        {
          "output_type": "stream",
          "name": "stdout",
          "text": [
            "Games Of Thrones, is my favorite TV show\n",
            "GAMES OF THRONES\n",
            "Star Trek, is my favorite TV show\n",
            "STAR TREK\n",
            "Stranger Things, is my favorite TV show\n",
            "STRANGER THINGS\n"
          ]
        }
      ]
    },
    {
      "cell_type": "code",
      "source": [
        "fruits = ['Apple', 'orange', 'cherry']"
      ],
      "metadata": {
        "id": "QkVUgsZC71oV"
      },
      "execution_count": 12,
      "outputs": []
    },
    {
      "cell_type": "code",
      "source": [
        "fruits.append('Strawberries')"
      ],
      "metadata": {
        "id": "55qbuwnV_7ij"
      },
      "execution_count": 17,
      "outputs": []
    },
    {
      "cell_type": "code",
      "source": [
        "fruits"
      ],
      "metadata": {
        "colab": {
          "base_uri": "https://localhost:8080/"
        },
        "id": "JqyUohAKACr-",
        "outputId": "1aff5e29-3516-4152-b9d9-fbf62611c4d6"
      },
      "execution_count": 18,
      "outputs": [
        {
          "output_type": "execute_result",
          "data": {
            "text/plain": [
              "['Apple',\n",
              " 'orange',\n",
              " 'cherry',\n",
              " 'Banana',\n",
              " 'Pears',\n",
              " 'Mangos',\n",
              " 'blue berries',\n",
              " 'Strawberries']"
            ]
          },
          "metadata": {},
          "execution_count": 18
        }
      ]
    },
    {
      "cell_type": "code",
      "source": [
        "fruits[7]='Strawberry'"
      ],
      "metadata": {
        "id": "CwDR1F37Ak--"
      },
      "execution_count": 29,
      "outputs": []
    },
    {
      "cell_type": "code",
      "source": [
        "fruits"
      ],
      "metadata": {
        "colab": {
          "base_uri": "https://localhost:8080/"
        },
        "id": "JHYP-spCA--F",
        "outputId": "9c98ae49-94d2-4746-928e-d74ee9e318da"
      },
      "execution_count": 30,
      "outputs": [
        {
          "output_type": "execute_result",
          "data": {
            "text/plain": [
              "['Apple',\n",
              " 'orange',\n",
              " 'kiwi',\n",
              " 'Banana',\n",
              " 'Pears',\n",
              " 'Mangos',\n",
              " 'blue berry',\n",
              " 'Strawberry']"
            ]
          },
          "metadata": {},
          "execution_count": 30
        }
      ]
    },
    {
      "cell_type": "code",
      "source": [
        "for f in fruits:\n",
        "  print(f.upper() + ' is my favority fruit')"
      ],
      "metadata": {
        "colab": {
          "base_uri": "https://localhost:8080/"
        },
        "id": "t0BJvzCnBiHk",
        "outputId": "d80a7ad8-7ca7-4051-a54e-fc0ca3b518f2"
      },
      "execution_count": 31,
      "outputs": [
        {
          "output_type": "stream",
          "name": "stdout",
          "text": [
            "APPLE is my favority fruit\n",
            "ORANGE is my favority fruit\n",
            "KIWI is my favority fruit\n",
            "BANANA is my favority fruit\n",
            "PEARS is my favority fruit\n",
            "MANGOS is my favority fruit\n",
            "BLUE BERRY is my favority fruit\n",
            "STRAWBERRY is my favority fruit\n"
          ]
        }
      ]
    },
    {
      "cell_type": "code",
      "source": [
        "for num in range(1,10):\n",
        "  print(num)"
      ],
      "metadata": {
        "colab": {
          "base_uri": "https://localhost:8080/"
        },
        "id": "TVvYWCzpBkRO",
        "outputId": "a96c39b6-98b7-40ac-d066-0c4b85452b64"
      },
      "execution_count": 33,
      "outputs": [
        {
          "output_type": "stream",
          "name": "stdout",
          "text": [
            "1\n",
            "2\n",
            "3\n",
            "4\n",
            "5\n",
            "6\n",
            "7\n",
            "8\n",
            "9\n"
          ]
        }
      ]
    },
    {
      "cell_type": "code",
      "source": [
        "for num in range(1,11,2):\n",
        "  print(num)"
      ],
      "metadata": {
        "colab": {
          "base_uri": "https://localhost:8080/"
        },
        "id": "sNwwm3ArBwL9",
        "outputId": "e58d4bbe-8c03-4a16-d77a-da85aac2acac"
      },
      "execution_count": 34,
      "outputs": [
        {
          "output_type": "stream",
          "name": "stdout",
          "text": [
            "1\n",
            "3\n",
            "5\n",
            "7\n",
            "9\n"
          ]
        }
      ]
    },
    {
      "cell_type": "code",
      "source": [
        "nums = list(range(1,21))"
      ],
      "metadata": {
        "id": "GnzoYhYOCqN8"
      },
      "execution_count": 44,
      "outputs": []
    },
    {
      "cell_type": "code",
      "source": [
        "list(range(21,1,-1))"
      ],
      "metadata": {
        "colab": {
          "base_uri": "https://localhost:8080/"
        },
        "id": "PjZTd4bHC9ZQ",
        "outputId": "5782d80c-4ea0-488a-bfdc-03d3fd469404"
      },
      "execution_count": 37,
      "outputs": [
        {
          "output_type": "execute_result",
          "data": {
            "text/plain": [
              "[21, 20, 19, 18, 17, 16, 15, 14, 13, 12, 11, 10, 9, 8, 7, 6, 5, 4, 3, 2]"
            ]
          },
          "metadata": {},
          "execution_count": 37
        }
      ]
    },
    {
      "cell_type": "code",
      "source": [
        "len(nums)"
      ],
      "metadata": {
        "colab": {
          "base_uri": "https://localhost:8080/"
        },
        "id": "GDRM3Ws4DRQ5",
        "outputId": "6245bda6-d061-4956-b7b8-40ae4a091fb3"
      },
      "execution_count": 45,
      "outputs": [
        {
          "output_type": "execute_result",
          "data": {
            "text/plain": [
              "20"
            ]
          },
          "metadata": {},
          "execution_count": 45
        }
      ]
    },
    {
      "cell_type": "code",
      "source": [
        "min(nums)"
      ],
      "metadata": {
        "colab": {
          "base_uri": "https://localhost:8080/"
        },
        "id": "qAFQTHvuDXYt",
        "outputId": "9e2149b9-135c-4c1e-b8f9-ae14a654321b"
      },
      "execution_count": 46,
      "outputs": [
        {
          "output_type": "execute_result",
          "data": {
            "text/plain": [
              "1"
            ]
          },
          "metadata": {},
          "execution_count": 46
        }
      ]
    },
    {
      "cell_type": "code",
      "source": [
        "max(nums)"
      ],
      "metadata": {
        "colab": {
          "base_uri": "https://localhost:8080/"
        },
        "id": "6_LP9bsUDdTt",
        "outputId": "b85c77a5-a091-4067-e92e-d8e36672637a"
      },
      "execution_count": 47,
      "outputs": [
        {
          "output_type": "execute_result",
          "data": {
            "text/plain": [
              "20"
            ]
          },
          "metadata": {},
          "execution_count": 47
        }
      ]
    },
    {
      "cell_type": "code",
      "source": [
        "sum(nums)"
      ],
      "metadata": {
        "colab": {
          "base_uri": "https://localhost:8080/"
        },
        "id": "Mr2N0uVUDeiS",
        "outputId": "0b862a4c-bc8a-42b1-88f7-64d287b00e76"
      },
      "execution_count": 48,
      "outputs": [
        {
          "output_type": "execute_result",
          "data": {
            "text/plain": [
              "210"
            ]
          },
          "metadata": {},
          "execution_count": 48
        }
      ]
    },
    {
      "cell_type": "code",
      "source": [
        "l = [1,2,3,4,5,6,7,8,9,10]"
      ],
      "metadata": {
        "id": "TyosABCFDgla"
      },
      "execution_count": 49,
      "outputs": []
    },
    {
      "cell_type": "code",
      "source": [
        "for i in nums:\n",
        "  if i %2 ==0:\n",
        "    print(i)\n",
        "  else:\n",
        "    print(str(i) + ' is not an even number')"
      ],
      "metadata": {
        "colab": {
          "base_uri": "https://localhost:8080/"
        },
        "id": "XB3gFlrDD5ar",
        "outputId": "2991d1b2-0d69-4f6e-ac91-c8334ff59740"
      },
      "execution_count": 57,
      "outputs": [
        {
          "output_type": "stream",
          "name": "stdout",
          "text": [
            "1 is not an even number\n",
            "2\n",
            "3 is not an even number\n",
            "4\n",
            "5 is not an even number\n",
            "6\n",
            "7 is not an even number\n",
            "8\n",
            "9 is not an even number\n",
            "10\n",
            "11 is not an even number\n",
            "12\n",
            "13 is not an even number\n",
            "14\n",
            "15 is not an even number\n",
            "16\n",
            "17 is not an even number\n",
            "18\n",
            "19 is not an even number\n",
            "20\n"
          ]
        }
      ]
    },
    {
      "cell_type": "code",
      "source": [
        "listSum = 0\n",
        "\n",
        "for num in l:\n",
        "  listSum = listSum + num\n",
        "\n",
        "print(listSum)"
      ],
      "metadata": {
        "colab": {
          "base_uri": "https://localhost:8080/"
        },
        "id": "goovj5s6D_ad",
        "outputId": "208c6a0f-a3ab-4b11-db48-96f585c223a7"
      },
      "execution_count": 59,
      "outputs": [
        {
          "output_type": "stream",
          "name": "stdout",
          "text": [
            "55\n"
          ]
        }
      ]
    },
    {
      "cell_type": "code",
      "source": [
        "dy={'k1':1, 'k2': 2, 'k3':3,'k4': 5}"
      ],
      "metadata": {
        "id": "pw_H3bzLGsKZ"
      },
      "execution_count": 61,
      "outputs": []
    },
    {
      "cell_type": "code",
      "source": [
        "for item in dy:\n",
        "  print(item)"
      ],
      "metadata": {
        "colab": {
          "base_uri": "https://localhost:8080/"
        },
        "id": "U1Gf4yjGHNBe",
        "outputId": "843cf37e-02d3-4c25-fa32-bd170f436d53"
      },
      "execution_count": 62,
      "outputs": [
        {
          "output_type": "stream",
          "name": "stdout",
          "text": [
            "k1\n",
            "k2\n",
            "k3\n",
            "k4\n"
          ]
        }
      ]
    },
    {
      "cell_type": "code",
      "source": [
        "for k,v in dy.items():\n",
        "  print(k)\n",
        "  print(v)"
      ],
      "metadata": {
        "colab": {
          "base_uri": "https://localhost:8080/"
        },
        "id": "bfE5wveCHUrk",
        "outputId": "377a6065-7414-4faa-d88e-d220bf11e86b"
      },
      "execution_count": 63,
      "outputs": [
        {
          "output_type": "stream",
          "name": "stdout",
          "text": [
            "k1\n",
            "1\n",
            "k2\n",
            "2\n",
            "k3\n",
            "3\n",
            "k4\n",
            "5\n"
          ]
        }
      ]
    },
    {
      "cell_type": "code",
      "source": [
        ""
      ],
      "metadata": {
        "id": "qSDW2KZDHda7"
      },
      "execution_count": null,
      "outputs": []
    }
  ]
}