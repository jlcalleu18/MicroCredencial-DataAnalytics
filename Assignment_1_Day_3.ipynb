{
  "nbformat": 4,
  "nbformat_minor": 0,
  "metadata": {
    "colab": {
      "name": "Assignment 1 Day 3.ipynb",
      "provenance": [],
      "collapsed_sections": [],
      "authorship_tag": "ABX9TyOz+Iq46R8VsHxSxyLZA7ra",
      "include_colab_link": true
    },
    "kernelspec": {
      "name": "python3",
      "display_name": "Python 3"
    },
    "language_info": {
      "name": "python"
    }
  },
  "cells": [
    {
      "cell_type": "markdown",
      "metadata": {
        "id": "view-in-github",
        "colab_type": "text"
      },
      "source": [
        "<a href=\"https://colab.research.google.com/github/jlcalleu18/MicroCredential-DataAnalytics/blob/main/Assignment_1_Day_3.ipynb\" target=\"_parent\"><img src=\"https://colab.research.google.com/assets/colab-badge.svg\" alt=\"Open In Colab\"/></a>"
      ]
    },
    {
      "cell_type": "markdown",
      "source": [
        "#Lesson 4 – Looping"
      ],
      "metadata": {
        "id": "o2Dkklr1X35b"
      }
    },
    {
      "cell_type": "markdown",
      "source": [
        "##Create a list that holds 5 data variables. "
      ],
      "metadata": {
        "id": "_QgyEm9waHZG"
      }
    },
    {
      "cell_type": "code",
      "source": [
        "colors = ['red', 'blue', 'yellow', 'black', 'green']"
      ],
      "metadata": {
        "id": "VKbEtxnLaR5k"
      },
      "execution_count": null,
      "outputs": []
    },
    {
      "cell_type": "code",
      "source": [
        "colors"
      ],
      "metadata": {
        "colab": {
          "base_uri": "https://localhost:8080/"
        },
        "id": "9GqZInnnaSHa",
        "outputId": "0396a755-39b0-4855-b425-cc6a04ff5f39"
      },
      "execution_count": null,
      "outputs": [
        {
          "output_type": "execute_result",
          "data": {
            "text/plain": [
              "['red', 'blue', 'yellow', 'black', 'green']"
            ]
          },
          "metadata": {},
          "execution_count": 3
        }
      ]
    },
    {
      "cell_type": "markdown",
      "source": [
        "##Print out those variables by using a for loop."
      ],
      "metadata": {
        "id": "B6hJ-b8SaSKd"
      }
    },
    {
      "cell_type": "code",
      "source": [
        "for color in colors:\n",
        "  print(color)"
      ],
      "metadata": {
        "colab": {
          "base_uri": "https://localhost:8080/"
        },
        "id": "WsxdAlHAa1n9",
        "outputId": "8ebc5be3-4aec-453c-ac08-055f24440b17"
      },
      "execution_count": null,
      "outputs": [
        {
          "output_type": "stream",
          "name": "stdout",
          "text": [
            "red\n",
            "blue\n",
            "yellow\n",
            "black\n",
            "green\n"
          ]
        }
      ]
    },
    {
      "cell_type": "markdown",
      "source": [
        "##Modify your for loop to add a message to your for loop."
      ],
      "metadata": {
        "id": "EwkhBQFMa8-c"
      }
    },
    {
      "cell_type": "code",
      "source": [
        "for color in colors:\n",
        "  print('My favority color is: '+color)"
      ],
      "metadata": {
        "colab": {
          "base_uri": "https://localhost:8080/"
        },
        "id": "8tQXguAGbB7o",
        "outputId": "a11621aa-f383-4589-a958-0025d3a839f9"
      },
      "execution_count": null,
      "outputs": [
        {
          "output_type": "stream",
          "name": "stdout",
          "text": [
            "My favority color is: red\n",
            "My favority color is: blue\n",
            "My favority color is: yellow\n",
            "My favority color is: black\n",
            "My favority color is: green\n"
          ]
        }
      ]
    },
    {
      "cell_type": "markdown",
      "source": [
        "##Use a for loop to print even numbers from 1-20."
      ],
      "metadata": {
        "id": "jdGhBrBkbdZ0"
      }
    },
    {
      "cell_type": "code",
      "source": [
        "for num in range(1,21):\n",
        "  if num % 2 == 0:\n",
        "    print(num)"
      ],
      "metadata": {
        "colab": {
          "base_uri": "https://localhost:8080/"
        },
        "id": "aOcpZpfZblVz",
        "outputId": "ee3203ba-0639-4238-bd76-466b77a2d1b2"
      },
      "execution_count": null,
      "outputs": [
        {
          "output_type": "stream",
          "name": "stdout",
          "text": [
            "2\n",
            "4\n",
            "6\n",
            "8\n",
            "10\n",
            "12\n",
            "14\n",
            "16\n",
            "18\n",
            "20\n"
          ]
        }
      ]
    },
    {
      "cell_type": "markdown",
      "source": [
        "##Sort your list in alphabetic order."
      ],
      "metadata": {
        "id": "ZVIbI2lNblSn"
      }
    },
    {
      "cell_type": "code",
      "source": [
        "colors.sort()"
      ],
      "metadata": {
        "id": "0Z-rXug7blJl"
      },
      "execution_count": null,
      "outputs": []
    },
    {
      "cell_type": "code",
      "source": [
        "colors"
      ],
      "metadata": {
        "colab": {
          "base_uri": "https://localhost:8080/"
        },
        "id": "-qyp67vUb-wr",
        "outputId": "1b5dbbec-d7c5-4148-d6be-3934fd3c8bc1"
      },
      "execution_count": null,
      "outputs": [
        {
          "output_type": "execute_result",
          "data": {
            "text/plain": [
              "['black', 'blue', 'green', 'red', 'yellow']"
            ]
          },
          "metadata": {},
          "execution_count": 9
        }
      ]
    },
    {
      "cell_type": "markdown",
      "source": [
        "##Print out the first three elements of your list."
      ],
      "metadata": {
        "id": "51_Q7zezcAXr"
      }
    },
    {
      "cell_type": "code",
      "source": [
        "print(colors[:3])"
      ],
      "metadata": {
        "colab": {
          "base_uri": "https://localhost:8080/"
        },
        "id": "lf0ipPFzcG1e",
        "outputId": "5437d99c-b8bb-43da-fa61-0a4134f292b2"
      },
      "execution_count": null,
      "outputs": [
        {
          "output_type": "stream",
          "name": "stdout",
          "text": [
            "['black', 'blue', 'green']\n"
          ]
        }
      ]
    },
    {
      "cell_type": "markdown",
      "source": [
        "##Create a loop to print the last 2 elements of your list."
      ],
      "metadata": {
        "id": "xZH2ifBCcGu7"
      }
    },
    {
      "cell_type": "code",
      "source": [
        "index = len(colors)-1\n",
        "count = 0\n",
        "while count < 2:\n",
        "  print(colors[index])\n",
        "  index-=1\n",
        "  count+=1"
      ],
      "metadata": {
        "colab": {
          "base_uri": "https://localhost:8080/"
        },
        "id": "nV-tBEk_cGnq",
        "outputId": "d84207c9-ce24-4181-91ce-cb74a6ea652d"
      },
      "execution_count": 32,
      "outputs": [
        {
          "output_type": "stream",
          "name": "stdout",
          "text": [
            "yellow\n",
            "red\n"
          ]
        }
      ]
    },
    {
      "cell_type": "markdown",
      "source": [
        "#Lesson: Unit 2 – Python Dictionaries"
      ],
      "metadata": {
        "id": "UBKe8TXhcGga"
      }
    },
    {
      "cell_type": "markdown",
      "source": [
        "##Create a simple dictionary that stores 2 variables, for example: first and last name."
      ],
      "metadata": {
        "id": "epvFWU13cGaj"
      }
    },
    {
      "cell_type": "code",
      "source": [
        "user = {'first_name': 'Jorge', 'last_name': 'Calle'}"
      ],
      "metadata": {
        "id": "7f5-NzmIcGSc"
      },
      "execution_count": 36,
      "outputs": []
    },
    {
      "cell_type": "code",
      "source": [
        "user"
      ],
      "metadata": {
        "id": "pLyK84FGcGKO",
        "colab": {
          "base_uri": "https://localhost:8080/"
        },
        "outputId": "1f05bc9e-4ed6-4a53-d798-92302e2a25de"
      },
      "execution_count": 37,
      "outputs": [
        {
          "output_type": "execute_result",
          "data": {
            "text/plain": [
              "{'first_name': 'Jorge', 'last_name': 'Calle'}"
            ]
          },
          "metadata": {},
          "execution_count": 37
        }
      ]
    },
    {
      "cell_type": "markdown",
      "source": [
        "##Print out those variables stored in your previous dictionary. "
      ],
      "metadata": {
        "id": "QDXEjx_UcGEZ"
      }
    },
    {
      "cell_type": "code",
      "source": [
        "print(user['first_name'])\n",
        "print(user['last_name'])"
      ],
      "metadata": {
        "colab": {
          "base_uri": "https://localhost:8080/"
        },
        "id": "EzRzS0K-hP6O",
        "outputId": "b22ee170-6c61-4e77-ff35-455492ba563a"
      },
      "execution_count": 39,
      "outputs": [
        {
          "output_type": "stream",
          "name": "stdout",
          "text": [
            "Jorge\n",
            "Calle\n"
          ]
        }
      ]
    },
    {
      "cell_type": "markdown",
      "source": [
        "##Add a message to those variables on printing: for example: “Hello, firstname lastname!”"
      ],
      "metadata": {
        "id": "Ysy6pvL1hPsm"
      }
    },
    {
      "cell_type": "code",
      "source": [
        "print(f\"Hello {user['first_name']} {user['last_name']}!\")"
      ],
      "metadata": {
        "colab": {
          "base_uri": "https://localhost:8080/"
        },
        "id": "rrMWIMfEhPjt",
        "outputId": "98cdd80c-6f58-4344-b11c-a7a3f8b19dfc"
      },
      "execution_count": 42,
      "outputs": [
        {
          "output_type": "stream",
          "name": "stdout",
          "text": [
            "Hello Jorge Calle!\n"
          ]
        }
      ]
    },
    {
      "cell_type": "markdown",
      "source": [
        "##Create a dictionary that holds 2 key: value pairs:\n",
        "Look through your dictionary and print each pair,\n"
      ],
      "metadata": {
        "id": "QfJq0YcLh4A7"
      }
    },
    {
      "cell_type": "code",
      "source": [
        "d = {'key1':1,'key2':2,'key3':3,'key4':4}"
      ],
      "metadata": {
        "id": "wjICBj_Eh35z"
      },
      "execution_count": 44,
      "outputs": []
    },
    {
      "cell_type": "code",
      "source": [
        "for k,v in d.items():\n",
        "  print('key: '+k)\n",
        "  print('Value: '+str(v))\n"
      ],
      "metadata": {
        "colab": {
          "base_uri": "https://localhost:8080/"
        },
        "id": "9kIACcHfjD9t",
        "outputId": "bc524b3c-1449-43c8-8727-7c47b5e775a6"
      },
      "execution_count": 54,
      "outputs": [
        {
          "output_type": "stream",
          "name": "stdout",
          "text": [
            "key: key1\n",
            "Value: 1\n",
            "key: key2\n",
            "Value: 2\n",
            "key: key3\n",
            "Value: 3\n",
            "key: key4\n",
            "Value: 4\n"
          ]
        }
      ]
    },
    {
      "cell_type": "markdown",
      "source": [
        "##Create a nested dictionary containing three dictionaries – these dictionaries could be anything (favorite pets, travel locations, etc.)\n",
        "Loop through the dictionaries and print a message for each.\n"
      ],
      "metadata": {
        "id": "F_FXnJxIjyHd"
      }
    },
    {
      "cell_type": "code",
      "source": [
        "nested = {'user': {'name': 'John', 'age': '20', 'email': 'j@gmail.com'},\n",
        "          'pet': {'type': 'Dog', 'age': '2', 'color': 'black'},\n",
        "          'travel': {'location': 'London', 'place': 'The British Museum'}}"
      ],
      "metadata": {
        "id": "f5FZEoWYk4yz"
      },
      "execution_count": 56,
      "outputs": []
    },
    {
      "cell_type": "code",
      "source": [
        "for k,v in nested.items():\n",
        "  print('This is the '+k+' data: ' +str(v))\n",
        "  "
      ],
      "metadata": {
        "colab": {
          "base_uri": "https://localhost:8080/"
        },
        "id": "NFG24cdBk4s3",
        "outputId": "2fb0b8c5-fad6-4086-b0fe-1d73ec59e974"
      },
      "execution_count": 77,
      "outputs": [
        {
          "output_type": "stream",
          "name": "stdout",
          "text": [
            "This is the user data: {'name': 'John', 'age': '27', 'email': 'j@gmail.com'}\n",
            "This is the pet data: {'type': 'Dog', 'age': '2', 'color': 'black'}\n",
            "This is the travel data: {'location': 'London', 'place': 'The British Museum'}\n"
          ]
        }
      ]
    },
    {
      "cell_type": "code",
      "source": [
        ""
      ],
      "metadata": {
        "id": "sZ9nPAZCoJ02"
      },
      "execution_count": null,
      "outputs": []
    }
  ]
}