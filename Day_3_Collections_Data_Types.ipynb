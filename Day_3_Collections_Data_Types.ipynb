{
  "nbformat": 4,
  "nbformat_minor": 0,
  "metadata": {
    "colab": {
      "name": "Day_3 Collections Data Types.ipynb",
      "provenance": [],
      "collapsed_sections": [],
      "authorship_tag": "ABX9TyPx7rdqOxuXHZ/3kKHSn9hz",
      "include_colab_link": true
    },
    "kernelspec": {
      "name": "python3",
      "display_name": "Python 3"
    },
    "language_info": {
      "name": "python"
    }
  },
  "cells": [
    {
      "cell_type": "markdown",
      "metadata": {
        "id": "view-in-github",
        "colab_type": "text"
      },
      "source": [
        "<a href=\"https://colab.research.google.com/github/jlcalleu18/MicroCredential-DataAnalytics/blob/main/Day_3_Collections_Data_Types.ipynb\" target=\"_parent\"><img src=\"https://colab.research.google.com/assets/colab-badge.svg\" alt=\"Open In Colab\"/></a>"
      ]
    },
    {
      "cell_type": "markdown",
      "source": [
        "# Collections Data Types"
      ],
      "metadata": {
        "id": "KS3Lj_fFs5-1"
      }
    },
    {
      "cell_type": "code",
      "source": [
        "patient_1 = {'first_name': 'John', 'last_name': 'Kimble'}\n",
        "print(patient_1['first_name'])\n",
        "print(patient_1['last_name'])"
      ],
      "metadata": {
        "id": "UQ5YE2SjtQbB",
        "colab": {
          "base_uri": "https://localhost:8080/"
        },
        "outputId": "b3391e8e-3cf0-4c27-83b8-d5f53261d65e"
      },
      "execution_count": null,
      "outputs": [
        {
          "output_type": "stream",
          "name": "stdout",
          "text": [
            "John\n",
            "Kimble\n"
          ]
        }
      ]
    },
    {
      "cell_type": "code",
      "source": [
        "patient_name = patient_1['first_name']\n",
        "print('Hello there, '+patient_name)"
      ],
      "metadata": {
        "id": "2HECh-cMtQWo",
        "colab": {
          "base_uri": "https://localhost:8080/"
        },
        "outputId": "5b8bdf6f-e1ae-4c52-a102-bb8425887118"
      },
      "execution_count": null,
      "outputs": [
        {
          "output_type": "stream",
          "name": "stdout",
          "text": [
            "Hello there, John\n"
          ]
        }
      ]
    },
    {
      "cell_type": "code",
      "source": [
        "patient_2={}"
      ],
      "metadata": {
        "id": "y8us4XFmtQNX"
      },
      "execution_count": null,
      "outputs": []
    },
    {
      "cell_type": "code",
      "source": [
        "patient_2 ['first_name'] = 'Jorge'"
      ],
      "metadata": {
        "id": "hP-up6MftQJG"
      },
      "execution_count": null,
      "outputs": []
    },
    {
      "cell_type": "code",
      "source": [
        "patient_2 ['last_name'] = 'Calle'"
      ],
      "metadata": {
        "id": "qs75bjaltQAT"
      },
      "execution_count": null,
      "outputs": []
    },
    {
      "cell_type": "code",
      "source": [
        "patient_2"
      ],
      "metadata": {
        "colab": {
          "base_uri": "https://localhost:8080/"
        },
        "id": "usPh2tYHv4yH",
        "outputId": "18797d84-5cb3-4811-abed-df675d35325e"
      },
      "execution_count": null,
      "outputs": [
        {
          "output_type": "execute_result",
          "data": {
            "text/plain": [
              "{'first_name': 'Jorge', 'last_name': 'Calle'}"
            ]
          },
          "metadata": {},
          "execution_count": 7
        }
      ]
    },
    {
      "cell_type": "code",
      "source": [
        "patient_2 ['age'] = '23'"
      ],
      "metadata": {
        "id": "gtRONulLv6si"
      },
      "execution_count": null,
      "outputs": []
    },
    {
      "cell_type": "code",
      "source": [
        "patient_2 ['email'] = 'jorge@gmail.com'"
      ],
      "metadata": {
        "id": "QEsrbJsewBZf"
      },
      "execution_count": null,
      "outputs": []
    },
    {
      "cell_type": "code",
      "source": [
        "patient_2 ['address'] = '142E 165th ST'"
      ],
      "metadata": {
        "id": "jPlpNhjDwLTA"
      },
      "execution_count": null,
      "outputs": []
    },
    {
      "cell_type": "code",
      "source": [
        "patient_2 ['phone'] = '5346728903'"
      ],
      "metadata": {
        "id": "0f-bhc4ywZIR"
      },
      "execution_count": null,
      "outputs": []
    },
    {
      "cell_type": "code",
      "source": [
        "patient_2"
      ],
      "metadata": {
        "colab": {
          "base_uri": "https://localhost:8080/"
        },
        "id": "1OD3UlLSwjF_",
        "outputId": "1eb40d0a-573f-42b5-f30f-6eb400d852d4"
      },
      "execution_count": null,
      "outputs": [
        {
          "output_type": "execute_result",
          "data": {
            "text/plain": [
              "{'address': '142E 165th ST',\n",
              " 'age': '23',\n",
              " 'email': 'jorge@gmail.com',\n",
              " 'first_name': 'Jorge',\n",
              " 'last_name': 'Calle',\n",
              " 'phone': '5346728903'}"
            ]
          },
          "metadata": {},
          "execution_count": 12
        }
      ]
    },
    {
      "cell_type": "code",
      "source": [
        "patient_2 ['object'] = 'Music'"
      ],
      "metadata": {
        "id": "_Hg_cMtowosb"
      },
      "execution_count": null,
      "outputs": []
    },
    {
      "cell_type": "code",
      "source": [
        "patient_2"
      ],
      "metadata": {
        "colab": {
          "base_uri": "https://localhost:8080/"
        },
        "id": "jZib4Ud2w-aZ",
        "outputId": "1bbf6fad-f094-459d-ca81-8d7acdf36581"
      },
      "execution_count": null,
      "outputs": [
        {
          "output_type": "execute_result",
          "data": {
            "text/plain": [
              "{'address': '142E 165th ST',\n",
              " 'age': '23',\n",
              " 'email': 'jorge@gmail.com',\n",
              " 'first_name': 'Jorge',\n",
              " 'last_name': 'Calle',\n",
              " 'object': 'Music',\n",
              " 'phone': '5346728903'}"
            ]
          },
          "metadata": {},
          "execution_count": 14
        }
      ]
    },
    {
      "cell_type": "code",
      "source": [
        "del patient_2['object']"
      ],
      "metadata": {
        "id": "6rKcpKY8w_aB"
      },
      "execution_count": null,
      "outputs": []
    },
    {
      "cell_type": "code",
      "source": [
        "patient_2"
      ],
      "metadata": {
        "colab": {
          "base_uri": "https://localhost:8080/"
        },
        "id": "o24h9_-DxDCO",
        "outputId": "7f1b2cb5-2420-4f7a-9d2e-8eefd18cb2d9"
      },
      "execution_count": null,
      "outputs": [
        {
          "output_type": "execute_result",
          "data": {
            "text/plain": [
              "{'address': '142E 165th ST',\n",
              " 'age': '23',\n",
              " 'email': 'jorge@gmail.com',\n",
              " 'first_name': 'Jorge',\n",
              " 'last_name': 'Calle',\n",
              " 'phone': '5346728903'}"
            ]
          },
          "metadata": {},
          "execution_count": 16
        }
      ]
    },
    {
      "cell_type": "code",
      "source": [
        "patient_2 ['objects'] = ['fruits', '23', 'name', 'string']"
      ],
      "metadata": {
        "id": "792ULP7gxEMO"
      },
      "execution_count": null,
      "outputs": []
    },
    {
      "cell_type": "code",
      "source": [
        "patient_2"
      ],
      "metadata": {
        "colab": {
          "base_uri": "https://localhost:8080/"
        },
        "id": "oRg_qFn0xb86",
        "outputId": "7b1fc22f-7385-49b0-9bbc-7c28f0a24ebd"
      },
      "execution_count": null,
      "outputs": [
        {
          "output_type": "execute_result",
          "data": {
            "text/plain": [
              "{'address': '142E 165th ST',\n",
              " 'age': '23',\n",
              " 'email': 'jorge@gmail.com',\n",
              " 'first_name': 'Jorge',\n",
              " 'last_name': 'Calle',\n",
              " 'objects': ['fruits', '23', 'name', 'string'],\n",
              " 'phone': '5346728903'}"
            ]
          },
          "metadata": {},
          "execution_count": 18
        }
      ]
    },
    {
      "cell_type": "code",
      "source": [
        "patient_2['objects'][0]"
      ],
      "metadata": {
        "colab": {
          "base_uri": "https://localhost:8080/",
          "height": 37
        },
        "id": "lypUzAOgxdbI",
        "outputId": "a5b002c1-ef3d-4242-e0bd-0413bb781632"
      },
      "execution_count": null,
      "outputs": [
        {
          "output_type": "execute_result",
          "data": {
            "application/vnd.google.colaboratory.intrinsic+json": {
              "type": "string"
            },
            "text/plain": [
              "'fruits'"
            ]
          },
          "metadata": {},
          "execution_count": 19
        }
      ]
    },
    {
      "cell_type": "code",
      "source": [
        "patient_2['objects'][0][1]"
      ],
      "metadata": {
        "colab": {
          "base_uri": "https://localhost:8080/",
          "height": 37
        },
        "id": "ljLEnz6Fx3fX",
        "outputId": "97c2b460-b71f-45ed-b023-cf0d6cc9dc86"
      },
      "execution_count": null,
      "outputs": [
        {
          "output_type": "execute_result",
          "data": {
            "application/vnd.google.colaboratory.intrinsic+json": {
              "type": "string"
            },
            "text/plain": [
              "'r'"
            ]
          },
          "metadata": {},
          "execution_count": 20
        }
      ]
    },
    {
      "cell_type": "code",
      "source": [
        "patient_2['objects'][0].upper()"
      ],
      "metadata": {
        "colab": {
          "base_uri": "https://localhost:8080/",
          "height": 37
        },
        "id": "sOYnEhR2x8o7",
        "outputId": "c7310298-857a-4ab9-c169-3df1de0f97c3"
      },
      "execution_count": null,
      "outputs": [
        {
          "output_type": "execute_result",
          "data": {
            "application/vnd.google.colaboratory.intrinsic+json": {
              "type": "string"
            },
            "text/plain": [
              "'FRUITS'"
            ]
          },
          "metadata": {},
          "execution_count": 21
        }
      ]
    },
    {
      "cell_type": "code",
      "source": [
        "patient_3 = {'Name': 'Jack', 'Last Name': 'Sparrow', 'MRN': '008384943', 'DOB': '12/02/2000'}"
      ],
      "metadata": {
        "id": "LOwNKnkix_yZ"
      },
      "execution_count": null,
      "outputs": []
    },
    {
      "cell_type": "code",
      "source": [
        "print(f\"The first name of the Patient is {patient_3['Name']}\")\n",
        "print(f\"The last name of the Patient is {patient_3['Last Name']}\")\n",
        "print(f\"The ID of the Patient is {patient_3['MRN']}\")\n",
        "print(f\"The DOB of the Patient is {patient_3['DOB']}\")"
      ],
      "metadata": {
        "colab": {
          "base_uri": "https://localhost:8080/"
        },
        "id": "kDaqi-Pl0gdG",
        "outputId": "566b62fb-49ae-47f7-9ee2-3048a4961a1a"
      },
      "execution_count": null,
      "outputs": [
        {
          "output_type": "stream",
          "name": "stdout",
          "text": [
            "The first name of the Patient is Jack\n",
            "The last name of the Patient is Sparrow\n",
            "The ID of the Patient is 008384943\n",
            "The DOB of the Patient is 12/02/2000\n"
          ]
        }
      ]
    },
    {
      "cell_type": "markdown",
      "source": [
        "#Nesting with Dictionaries"
      ],
      "metadata": {
        "id": "8a8k8aC91AUB"
      }
    },
    {
      "cell_type": "code",
      "source": [
        "# Dictionary nested inside a dictionary nested in side a dictionary\n",
        "d = {'key1':{'nestkey':{'subnestkey':'value'}}}"
      ],
      "metadata": {
        "id": "AEtASUwN178f"
      },
      "execution_count": null,
      "outputs": []
    },
    {
      "cell_type": "code",
      "source": [
        "# Keep calling the keys\n",
        "d['key1']['nestkey']['subnestkey']"
      ],
      "metadata": {
        "colab": {
          "base_uri": "https://localhost:8080/",
          "height": 37
        },
        "id": "JLqObLt01729",
        "outputId": "80888ce6-1840-4f4d-ac43-c36a50e531ac"
      },
      "execution_count": null,
      "outputs": [
        {
          "output_type": "execute_result",
          "data": {
            "application/vnd.google.colaboratory.intrinsic+json": {
              "type": "string"
            },
            "text/plain": [
              "'value'"
            ]
          },
          "metadata": {},
          "execution_count": 34
        }
      ]
    },
    {
      "cell_type": "code",
      "source": [
        "d['key1']"
      ],
      "metadata": {
        "colab": {
          "base_uri": "https://localhost:8080/"
        },
        "id": "IOxGbjFG2a_N",
        "outputId": "e38ee001-d7d2-4bd8-e460-a8b1399dc9f9"
      },
      "execution_count": null,
      "outputs": [
        {
          "output_type": "execute_result",
          "data": {
            "text/plain": [
              "{'nestkey': {'subnestkey': 'value'}}"
            ]
          },
          "metadata": {},
          "execution_count": 35
        }
      ]
    },
    {
      "cell_type": "markdown",
      "source": [
        "#Dictionary Methods"
      ],
      "metadata": {
        "id": "_b6GLg3c2Nvv"
      }
    },
    {
      "cell_type": "code",
      "source": [
        "# Create a typical dictionary\n",
        "d = {'key1':1,'key2':2,'key3':3}"
      ],
      "metadata": {
        "id": "vtC3J8b_2NnC"
      },
      "execution_count": null,
      "outputs": []
    },
    {
      "cell_type": "code",
      "source": [
        "# Method to return a list of all keys \n",
        "d.keys()"
      ],
      "metadata": {
        "colab": {
          "base_uri": "https://localhost:8080/"
        },
        "id": "PfbQT1_y2NhL",
        "outputId": "106e22ed-e344-47b7-e0ce-fcd677c8f09a"
      },
      "execution_count": null,
      "outputs": [
        {
          "output_type": "execute_result",
          "data": {
            "text/plain": [
              "dict_keys(['key1', 'key2', 'key3'])"
            ]
          },
          "metadata": {},
          "execution_count": 28
        }
      ]
    },
    {
      "cell_type": "code",
      "source": [
        "# Method to grab all values\n",
        "d.values()"
      ],
      "metadata": {
        "colab": {
          "base_uri": "https://localhost:8080/"
        },
        "id": "KOG6TVd917yT",
        "outputId": "47d259c2-ef48-456a-d862-097479eea187"
      },
      "execution_count": null,
      "outputs": [
        {
          "output_type": "execute_result",
          "data": {
            "text/plain": [
              "dict_values([1, 2, 3])"
            ]
          },
          "metadata": {},
          "execution_count": 29
        }
      ]
    },
    {
      "cell_type": "code",
      "source": [
        "# Method to return tuples of all items  (we'll learn about tuples soon)\n",
        "d.items()"
      ],
      "metadata": {
        "colab": {
          "base_uri": "https://localhost:8080/"
        },
        "id": "mRdgWoDG2Y_8",
        "outputId": "bae116ba-8331-4263-ed7c-0e8edcbfc1ee"
      },
      "execution_count": null,
      "outputs": [
        {
          "output_type": "execute_result",
          "data": {
            "text/plain": [
              "dict_items([('key1', 1), ('key2', 2), ('key3', 3)])"
            ]
          },
          "metadata": {},
          "execution_count": 30
        }
      ]
    },
    {
      "cell_type": "code",
      "source": [
        ""
      ],
      "metadata": {
        "id": "jDBRAP5j3CxO"
      },
      "execution_count": null,
      "outputs": []
    },
    {
      "cell_type": "code",
      "source": [
        ""
      ],
      "metadata": {
        "id": "WFd1FahJ3Cm8"
      },
      "execution_count": null,
      "outputs": []
    },
    {
      "cell_type": "code",
      "source": [
        ""
      ],
      "metadata": {
        "id": "U4G-LToa3Ce4"
      },
      "execution_count": null,
      "outputs": []
    },
    {
      "cell_type": "code",
      "source": [
        ""
      ],
      "metadata": {
        "id": "jzAiaVNQ3CVY"
      },
      "execution_count": null,
      "outputs": []
    }
  ]
}