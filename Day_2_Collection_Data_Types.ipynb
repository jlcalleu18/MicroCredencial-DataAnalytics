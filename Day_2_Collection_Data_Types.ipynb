{
  "nbformat": 4,
  "nbformat_minor": 0,
  "metadata": {
    "colab": {
      "name": "Day 2 Collection Data Types.ipynb",
      "provenance": [],
      "collapsed_sections": [],
      "authorship_tag": "ABX9TyOL3DmadnB7ci/cM1TiIyti",
      "include_colab_link": true
    },
    "kernelspec": {
      "name": "python3",
      "display_name": "Python 3"
    },
    "language_info": {
      "name": "python"
    }
  },
  "cells": [
    {
      "cell_type": "markdown",
      "metadata": {
        "id": "view-in-github",
        "colab_type": "text"
      },
      "source": [
        "<a href=\"https://colab.research.google.com/github/jlcalleu18/MicroCredential-DataAnalytics/blob/main/Day_2_Collection_Data_Types.ipynb\" target=\"_parent\"><img src=\"https://colab.research.google.com/assets/colab-badge.svg\" alt=\"Open In Colab\"/></a>"
      ]
    },
    {
      "cell_type": "markdown",
      "source": [
        "#Collection Data Types\n",
        "List, Dictionaries, Sets & Tuples\n",
        "\n",
        "#List"
      ],
      "metadata": {
        "id": "UFKDB0fhNq9k"
      }
    },
    {
      "cell_type": "code",
      "source": [
        "movies = ['Star Wars', 'Star Trek', 'Lord of the Rings', 'Avengers', 'Don\\'t Look Up', 'Fast and Furious']\n",
        "print(movies)"
      ],
      "metadata": {
        "colab": {
          "base_uri": "https://localhost:8080/"
        },
        "id": "ewfhsPo4OCOl",
        "outputId": "d82bd505-0d99-4d65-b985-32c83fba1e14"
      },
      "execution_count": null,
      "outputs": [
        {
          "output_type": "stream",
          "name": "stdout",
          "text": [
            "['Star Wars', 'Star Trek', 'Lord of the Rings', 'Avengers', \"Don't Look Up\", 'Fast and Furious']\n"
          ]
        }
      ]
    },
    {
      "cell_type": "code",
      "source": [
        "movies[0].upper()"
      ],
      "metadata": {
        "colab": {
          "base_uri": "https://localhost:8080/",
          "height": 37
        },
        "id": "M0e-mol8Q5wf",
        "outputId": "379489a6-5c1b-4f1d-a054-5eafdc053bb0"
      },
      "execution_count": null,
      "outputs": [
        {
          "output_type": "execute_result",
          "data": {
            "application/vnd.google.colaboratory.intrinsic+json": {
              "type": "string"
            },
            "text/plain": [
              "'STAR WARS'"
            ]
          },
          "metadata": {},
          "execution_count": 3
        }
      ]
    },
    {
      "cell_type": "code",
      "source": [
        "len(movies)"
      ],
      "metadata": {
        "colab": {
          "base_uri": "https://localhost:8080/"
        },
        "id": "BSe7tMP5RD4N",
        "outputId": "cdfff3ae-629e-408b-a3eb-6f8b5e4052ef"
      },
      "execution_count": null,
      "outputs": [
        {
          "output_type": "execute_result",
          "data": {
            "text/plain": [
              "6"
            ]
          },
          "metadata": {},
          "execution_count": 7
        }
      ]
    },
    {
      "cell_type": "code",
      "source": [
        "movies[0][2]"
      ],
      "metadata": {
        "colab": {
          "base_uri": "https://localhost:8080/",
          "height": 37
        },
        "id": "tVGajJO5RsuH",
        "outputId": "9af882db-7fd7-4d11-a7ff-895bd75386dd"
      },
      "execution_count": null,
      "outputs": [
        {
          "output_type": "execute_result",
          "data": {
            "application/vnd.google.colaboratory.intrinsic+json": {
              "type": "string"
            },
            "text/plain": [
              "'a'"
            ]
          },
          "metadata": {},
          "execution_count": 8
        }
      ]
    },
    {
      "cell_type": "code",
      "source": [
        "message = 'My favorite movie is '+ movies[3].upper() + '!!!'\n",
        "print(message)"
      ],
      "metadata": {
        "colab": {
          "base_uri": "https://localhost:8080/"
        },
        "id": "BD5YfuhYS7cI",
        "outputId": "95de0621-7b48-4b1b-dfee-38cb3d07f58e"
      },
      "execution_count": null,
      "outputs": [
        {
          "output_type": "stream",
          "name": "stdout",
          "text": [
            "My favorite movie is AVENGERS!!!\n"
          ]
        }
      ]
    },
    {
      "cell_type": "code",
      "source": [
        "movies"
      ],
      "metadata": {
        "colab": {
          "base_uri": "https://localhost:8080/"
        },
        "id": "kc1Jh6mETvV4",
        "outputId": "d6bdbefb-38ae-4818-ed73-9502fa3101a1"
      },
      "execution_count": null,
      "outputs": [
        {
          "output_type": "execute_result",
          "data": {
            "text/plain": [
              "['Star Wars',\n",
              " 'Star Trek',\n",
              " 'Lord of the Rings',\n",
              " 'Avengers',\n",
              " \"Don't Look Up\",\n",
              " 'Fast and Furious']"
            ]
          },
          "metadata": {},
          "execution_count": 13
        }
      ]
    },
    {
      "cell_type": "code",
      "source": [
        "movies[1] = 'The matrix'"
      ],
      "metadata": {
        "id": "AyXtURotdINb"
      },
      "execution_count": null,
      "outputs": []
    },
    {
      "cell_type": "code",
      "source": [
        "movies"
      ],
      "metadata": {
        "colab": {
          "base_uri": "https://localhost:8080/"
        },
        "id": "S77ElkyndONJ",
        "outputId": "b217bd0e-3a72-453c-b405-bf155e5f1c4f"
      },
      "execution_count": null,
      "outputs": [
        {
          "output_type": "execute_result",
          "data": {
            "text/plain": [
              "['Star Wars',\n",
              " 'The matrix',\n",
              " 'Lord of the Rings',\n",
              " 'Avengers',\n",
              " \"Don't Look Up\",\n",
              " 'Fast and Furious']"
            ]
          },
          "metadata": {},
          "execution_count": 15
        }
      ]
    },
    {
      "cell_type": "code",
      "source": [
        "#adding a string to the end of the list\n",
        "movies.append('Spider-man')\n"
      ],
      "metadata": {
        "id": "vIhjCJqQdPra"
      },
      "execution_count": null,
      "outputs": []
    },
    {
      "cell_type": "code",
      "source": [
        "movies"
      ],
      "metadata": {
        "colab": {
          "base_uri": "https://localhost:8080/"
        },
        "id": "M03b_7mbdgVg",
        "outputId": "18edcfee-3d75-41a4-cf7d-aa6facf7f68c"
      },
      "execution_count": null,
      "outputs": [
        {
          "output_type": "execute_result",
          "data": {
            "text/plain": [
              "['Star Wars',\n",
              " 'The matrix',\n",
              " 'Lord of the Rings',\n",
              " 'Avengers',\n",
              " \"Don't Look Up\",\n",
              " 'Fast and Furious',\n",
              " 'Spider-man']"
            ]
          },
          "metadata": {},
          "execution_count": 18
        }
      ]
    },
    {
      "cell_type": "code",
      "source": [
        "movies.insert(-1,'Spider-Man')"
      ],
      "metadata": {
        "id": "3wkMHYSXd6Ju"
      },
      "execution_count": null,
      "outputs": []
    },
    {
      "cell_type": "code",
      "source": [
        "movies"
      ],
      "metadata": {
        "colab": {
          "base_uri": "https://localhost:8080/"
        },
        "id": "fvGS50GleKY9",
        "outputId": "8fd306d4-8464-4b6f-9d09-3764f21e60ed"
      },
      "execution_count": null,
      "outputs": [
        {
          "output_type": "execute_result",
          "data": {
            "text/plain": [
              "['Star Wars',\n",
              " 'The matrix',\n",
              " 'Lord of the Rings',\n",
              " 'Avengers',\n",
              " \"Don't Look Up\",\n",
              " 'Fast and Furious',\n",
              " 'Spider-Man',\n",
              " 'Spider-man']"
            ]
          },
          "metadata": {},
          "execution_count": 20
        }
      ]
    },
    {
      "cell_type": "code",
      "source": [
        "movies.remove('Spider-man')"
      ],
      "metadata": {
        "id": "0WOKJdPCeMUK"
      },
      "execution_count": null,
      "outputs": []
    },
    {
      "cell_type": "code",
      "source": [
        "movies"
      ],
      "metadata": {
        "colab": {
          "base_uri": "https://localhost:8080/"
        },
        "id": "p2wk5luQeU7z",
        "outputId": "85db988e-de63-474e-dfd3-e15ee697e52c"
      },
      "execution_count": null,
      "outputs": [
        {
          "output_type": "execute_result",
          "data": {
            "text/plain": [
              "['Star Wars',\n",
              " 'The matrix',\n",
              " 'Lord of the Rings',\n",
              " 'Avengers',\n",
              " \"Don't Look Up\",\n",
              " 'Fast and Furious',\n",
              " 'Spider-Man']"
            ]
          },
          "metadata": {},
          "execution_count": 23
        }
      ]
    },
    {
      "cell_type": "code",
      "source": [
        "movies.index('The matrix')"
      ],
      "metadata": {
        "colab": {
          "base_uri": "https://localhost:8080/"
        },
        "id": "F_qZk21aeaRr",
        "outputId": "84c70806-0a61-4473-fd32-351d54fe474c"
      },
      "execution_count": null,
      "outputs": [
        {
          "output_type": "execute_result",
          "data": {
            "text/plain": [
              "1"
            ]
          },
          "metadata": {},
          "execution_count": 25
        }
      ]
    },
    {
      "cell_type": "code",
      "source": [
        "movies.sort()"
      ],
      "metadata": {
        "id": "al0kWaQSercV"
      },
      "execution_count": null,
      "outputs": []
    },
    {
      "cell_type": "code",
      "source": [
        "movies"
      ],
      "metadata": {
        "colab": {
          "base_uri": "https://localhost:8080/"
        },
        "id": "CJPDjKg4fK88",
        "outputId": "823fb0e7-f02c-49cb-d3b8-63010a57022f"
      },
      "execution_count": null,
      "outputs": [
        {
          "output_type": "execute_result",
          "data": {
            "text/plain": [
              "['Avengers',\n",
              " \"Don't Look Up\",\n",
              " 'Fast and Furious',\n",
              " 'Lord of the Rings',\n",
              " 'Spider-Man',\n",
              " 'Star Wars',\n",
              " 'The Matrix']"
            ]
          },
          "metadata": {},
          "execution_count": 29
        }
      ]
    },
    {
      "cell_type": "code",
      "source": [
        "#delete a index in the movie\n",
        "del movies[1]"
      ],
      "metadata": {
        "id": "9iDT5c1RfLnT"
      },
      "execution_count": null,
      "outputs": []
    },
    {
      "cell_type": "code",
      "source": [
        "movies "
      ],
      "metadata": {
        "colab": {
          "base_uri": "https://localhost:8080/"
        },
        "id": "SWDig1XDfkmP",
        "outputId": "30b851c2-9929-4861-cecd-2678a2597856"
      },
      "execution_count": null,
      "outputs": [
        {
          "output_type": "execute_result",
          "data": {
            "text/plain": [
              "['Avengers',\n",
              " 'Fast and Furious',\n",
              " 'Lord of the Rings',\n",
              " 'Spider-Man',\n",
              " 'Star Wars',\n",
              " 'The Matrix']"
            ]
          },
          "metadata": {},
          "execution_count": 31
        }
      ]
    },
    {
      "cell_type": "code",
      "source": [
        "movies.count('Avengers')"
      ],
      "metadata": {
        "colab": {
          "base_uri": "https://localhost:8080/"
        },
        "id": "C2SMP1j1flUd",
        "outputId": "4f3c4424-746f-4e6a-ce76-7b963d9ebe22"
      },
      "execution_count": null,
      "outputs": [
        {
          "output_type": "execute_result",
          "data": {
            "text/plain": [
              "1"
            ]
          },
          "metadata": {},
          "execution_count": 33
        }
      ]
    },
    {
      "cell_type": "code",
      "source": [
        "movies.sort(reverse=True)"
      ],
      "metadata": {
        "id": "r_n893MwfuVa"
      },
      "execution_count": null,
      "outputs": []
    },
    {
      "cell_type": "code",
      "source": [
        "movies"
      ],
      "metadata": {
        "colab": {
          "base_uri": "https://localhost:8080/"
        },
        "id": "Udq60EROgPxl",
        "outputId": "eebe37ca-0aac-4291-a495-5a84f72a2c15"
      },
      "execution_count": null,
      "outputs": [
        {
          "output_type": "execute_result",
          "data": {
            "text/plain": [
              "['The Matrix',\n",
              " 'Star Wars',\n",
              " 'Spider-Man',\n",
              " 'Lord of the Rings',\n",
              " 'Fast and Furious',\n",
              " 'Avengers']"
            ]
          },
          "metadata": {},
          "execution_count": 43
        }
      ]
    },
    {
      "cell_type": "code",
      "source": [
        "number = input(\"Enter a number: \")\n",
        "binary = format(int(number), \"b\")\n",
        "octal = format(int(number), \"o\")\n",
        "hex = format(int(number), \"x\")\n",
        "print(\"The number in binary is: \"+binary)\n",
        "print(\"The number in Octal is: \"+octal)\n",
        "print(\"The number in Hexadecimal is: \"+hex)"
      ],
      "metadata": {
        "colab": {
          "base_uri": "https://localhost:8080/"
        },
        "id": "RcesnEU1gSkW",
        "outputId": "7476797e-5024-4b09-fb87-25971b414677"
      },
      "execution_count": null,
      "outputs": [
        {
          "output_type": "stream",
          "name": "stdout",
          "text": [
            "In the a number: 34\n",
            "The number in binary is: 100010\n",
            "The number in Octal is: 42\n",
            "The number in Hexadecimal is: 22\n"
          ]
        }
      ]
    },
    {
      "cell_type": "code",
      "source": [
        ""
      ],
      "metadata": {
        "id": "25RAdSVHjFnO"
      },
      "execution_count": null,
      "outputs": []
    }
  ]
}