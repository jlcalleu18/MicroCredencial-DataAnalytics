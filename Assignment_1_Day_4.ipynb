{
  "nbformat": 4,
  "nbformat_minor": 0,
  "metadata": {
    "colab": {
      "name": "Assignment 1 Day 4.ipynb",
      "provenance": [],
      "authorship_tag": "ABX9TyONLoNTZu25EO5PQixOvI+4",
      "include_colab_link": true
    },
    "kernelspec": {
      "name": "python3",
      "display_name": "Python 3"
    },
    "language_info": {
      "name": "python"
    }
  },
  "cells": [
    {
      "cell_type": "markdown",
      "metadata": {
        "id": "view-in-github",
        "colab_type": "text"
      },
      "source": [
        "<a href=\"https://colab.research.google.com/github/jlcalleu18/MicroCredential-DataAnalytics/blob/main/Assignment_1_Day_4.ipynb\" target=\"_parent\"><img src=\"https://colab.research.google.com/assets/colab-badge.svg\" alt=\"Open In Colab\"/></a>"
      ]
    },
    {
      "cell_type": "markdown",
      "source": [
        "#Mini Project\n",
        "Ask the user for a number. Depending on whether the number is even or odd, print out an\n",
        "appropriate message to the user. Hint: how does an even / odd number react differently\n",
        "when divided by 2?\n",
        "\n",
        "Bonus:\n",
        "\n",
        "-If the number is a multiple of 4, print out a different message.\n",
        "\n",
        "-Ask the user for two numbers: one number to check (call it num) and one number to divide by (check). If check divides evenly into num, tell that to the user. If not, print a different appropriate message.\n",
        "\n",
        "-Write a custom function for finding whether the number is even or odd and call it in your main program code."
      ],
      "metadata": {
        "id": "BzkWdP-ut_sC"
      }
    },
    {
      "cell_type": "code",
      "source": [
        "def miniProject():\n",
        "  \"\"\"\n",
        "  Author: Jorge Calle\n",
        "  input: n/a\n",
        "  output: check a even, odd, multiple of 4 and if a number if divided by other number\n",
        "  \"\"\"\n",
        "\n",
        "  # funtion to check if is an even or odd number\n",
        "  def checkEvenOdd(num):\n",
        "    if num % 2 ==0:\n",
        "      print(f'{num} is an even number')\n",
        "    else:\n",
        "      print(f'{num} is an odd number')\n",
        "  \n",
        "  # funcion to check if a number id divided by other\n",
        "  def checkDivition(num1, num2):\n",
        "    if num1 % num2 ==0:\n",
        "      print(f'{num1} divided by {num2} is an evenly division')\n",
        "    else:\n",
        "      print(f'{num1} divided by {num2} is not an evenly division')\n",
        "\n",
        "\n",
        "  # requesting an number from the user \n",
        "  num = int(input('Enter a number: '))\n",
        "\n",
        "  # calling the funtion and sending the input number\n",
        "  checkEvenOdd(num)\n",
        "  if num % 4 == 0:\n",
        "    print(f'{num} is also a multiple of 4')\n",
        "\n",
        "# requesting two numbers from the user \n",
        "  print('\\nEnter two numbers to check evenly division:')\n",
        "  num1 = int(input('Enter a first number: '))\n",
        "  num2 = int(input('Enter a second number: '))\n",
        "  # calling the checkDivition funtion and sending the two numbers\n",
        "  checkDivition(num1, num2)\n",
        "\n",
        "\n",
        "\n"
      ],
      "metadata": {
        "id": "oVs_3G6bubIY"
      },
      "execution_count": 21,
      "outputs": []
    },
    {
      "cell_type": "code",
      "source": [
        "miniProject()"
      ],
      "metadata": {
        "colab": {
          "base_uri": "https://localhost:8080/"
        },
        "id": "E3KY87HzvdR5",
        "outputId": "98a01636-141b-4ddd-e632-54e76fdbf24a"
      },
      "execution_count": 22,
      "outputs": [
        {
          "output_type": "stream",
          "name": "stdout",
          "text": [
            "Enter a number: 32\n",
            "32 is an even number\n",
            "32 is also a multiple of 4\n",
            "\n",
            "Enter two numbers to check evenly division:\n",
            "Enter a first number: 30\n",
            "Enter a second number: 3\n",
            "30 divided by 3 is an evenly division\n"
          ]
        }
      ]
    },
    {
      "cell_type": "code",
      "source": [
        ""
      ],
      "metadata": {
        "id": "djWo0Y1r2OYx"
      },
      "execution_count": null,
      "outputs": []
    }
  ]
}